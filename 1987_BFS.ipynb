{
 "cells": [
  {
   "cell_type": "markdown",
   "metadata": {},
   "source": [
    "# [BFS_1987](https://www.acmicpc.net/problem/1987)\n"
   ]
  },
  {
   "cell_type": "markdown",
   "metadata": {},
   "source": [
    "---"
   ]
  },
  {
   "cell_type": "markdown",
   "metadata": {},
   "source": [
    "## 문제\n",
    "\n",
    "세로 R칸, 가로 C칸으로 된 표 모양의 보드가 있다. 보드의 각 칸에는 대문자 알파벳이 하나씩 적혀 있고, 좌측 상단 칸 (1행 1열) 에는 말이 놓여 있다.\n",
    "\n",
    "말은 상하좌우로 인접한 네 칸 중의 한 칸으로 이동할 수 있는데, 새로 이동한 칸에 적혀 있는 알파벳은 지금까지 지나온 모든 칸에 적혀 있는 알파벳과는 달라야 한다. 즉, 같은 알파벳이 적힌 칸을 두 번 지날 수 없다.\n",
    "\n",
    "좌측 상단에서 시작해서, 말이 최대한 몇 칸을 지날 수 있는지를 구하는 프로그램을 작성하시오. 말이 지나는 칸은 좌측 상단의 칸도 포함된다.\n",
    "\n",
    "## 입력\n",
    "\n",
    "첫째 줄에 R과 C가 빈칸을 사이에 두고 주어진다. (1 ≤ R,C ≤ 20) 둘째 줄부터 R개의 줄에 걸쳐서 보드에 적혀 있는 C개의 대문자 알파벳들이 빈칸 없이 주어진다.\n",
    "\n",
    "## 출력\n",
    "\n",
    "첫째 줄에 말이 지날 수 있는 최대의 칸 수를 출력한다."
   ]
  },
  {
   "cell_type": "markdown",
   "metadata": {},
   "source": [
    "---"
   ]
  },
  {
   "cell_type": "markdown",
   "metadata": {},
   "source": [
    "## DFS "
   ]
  },
  {
   "cell_type": "markdown",
   "metadata": {},
   "source": [
    "---"
   ]
  },
  {
   "cell_type": "markdown",
   "metadata": {},
   "source": [
    "<img src = \"1987.png\" width = \"500\" height = \"500\" >"
   ]
  },
  {
   "cell_type": "markdown",
   "metadata": {},
   "source": [
    "---"
   ]
  },
  {
   "cell_type": "markdown",
   "metadata": {},
   "source": [
    "## Memo\n",
    "\n",
    "- q에 들어가는 데이터 \n",
    "\n",
    "---\n",
    "- 알파벳 ASCII 값 중복 x // 이전까지는 중복 좌표 i,j x 였음 // 이걸 방문 표시 리스트를 활용하여, `v[i][j] == 0` 인 경우 방문 처리 했음\n",
    "\n",
    "- i,j 에서의 중복 시퀀스 처리\n",
    "\n",
    "---\n",
    "\n",
    "- 상하좌우 이동시 중복 된 경우, 갈수 없음, 같은 레벨에 같은 알파벳이 있으면, 하나 제외 시키게 됨\n",
    "\n",
    "- 다른 루트 이동이 불가\n",
    "\n"
   ]
  },
  {
   "cell_type": "markdown",
   "metadata": {},
   "source": [
    "---"
   ]
  },
  {
   "cell_type": "markdown",
   "metadata": {},
   "source": [
    "- 중복 값이 아닐 경우 `if arr[ni][nj] not in cv:` - 'H' not in 'CV'\n",
    "\n",
    "\n",
    "- HAJ, HFj 둘다 `v[1][1]` 사용한 알파벳은 같으나, 경로는 아예 다름, 둘다 처리 해줘야 함\n",
    "\n",
    "- `cv+arr[ni][nj]` 다음 이동 시퀀스 \n",
    "\n",
    "- 중복 시퀀스가 아닌 경우 `if cv+arr[ni][nj] not in v[ni][nj]:`  \n",
    "\n",
    "\n"
   ]
  },
  {
   "cell_type": "markdown",
   "metadata": {},
   "source": [
    "---"
   ]
  },
  {
   "cell_type": "markdown",
   "metadata": {},
   "source": [
    "## list"
   ]
  },
  {
   "cell_type": "code",
   "execution_count": null,
   "metadata": {},
   "outputs": [],
   "source": [
    "# list\n",
    "\n",
    "from collections import deque\n",
    "\n",
    "def bfs(si, sj):\n",
    "\n",
    "    q = deque()\n",
    "    \n",
    "    ans = 1\n",
    "\n",
    "    # q에 초기데이터(들) 삽입\n",
    "    \n",
    "    q.append((si,sj,arr[si][sj]))\n",
    "\n",
    "    v[si][sj].append(arr[si][sj])\n",
    "\n",
    "    \n",
    "    while q:\n",
    "        \n",
    "        ci,cj,cv = q.popleft()\n",
    "        \n",
    "        ans = max(ans, len(cv))\n",
    "        \n",
    "        # 4방향, 범위내, 중복값이 아닌경우, 중복시퀀스 아닌경우\n",
    "        \n",
    "        for di,dj in ((-1,0),(1,0),(0,-1),(0,1)):\n",
    "            \n",
    "            ni,nj = ci+di, cj+dj\n",
    "            \n",
    "            if 0<=ni<R and 0<=nj<C and arr[ni][nj] not in cv:\n",
    "                \n",
    "                if cv+arr[ni][nj] not in v[ni][nj]:\n",
    "                    \n",
    "                    q.append((ni,nj,cv+arr[ni][nj]))\n",
    "                    v[ni][nj].append((cv+arr[ni][nj]))\n",
    "    \n",
    "    return ans\n",
    "\n",
    "\n"
   ]
  },
  {
   "cell_type": "code",
   "execution_count": null,
   "metadata": {},
   "outputs": [],
   "source": [
    "R, C = map(int, input().split())\n",
    "\n",
    "arr = [ list(input()) for _ in range(R) ]\n",
    "\n",
    "v = [ [ [] for _ in range(C) ] for _ in range(R) ] \n",
    "\n",
    "    \n",
    "ans = bfs(0,0)\n",
    "\n",
    "print(ans)"
   ]
  },
  {
   "cell_type": "code",
   "execution_count": null,
   "metadata": {},
   "outputs": [],
   "source": [
    "arr"
   ]
  },
  {
   "cell_type": "code",
   "execution_count": null,
   "metadata": {},
   "outputs": [],
   "source": [
    "v"
   ]
  },
  {
   "cell_type": "markdown",
   "metadata": {},
   "source": [
    "---"
   ]
  },
  {
   "cell_type": "markdown",
   "metadata": {},
   "source": [
    "## set"
   ]
  },
  {
   "cell_type": "code",
   "execution_count": null,
   "metadata": {},
   "outputs": [],
   "source": [
    "# set \n",
    "\n",
    "from collections import deque\n",
    "\n",
    "def bfs(si, sj):\n",
    "\n",
    "    q = deque()\n",
    "    \n",
    "    ans = 1\n",
    "\n",
    "    # q에 초기데이터(들) 삽입\n",
    "    \n",
    "    q.append((si,sj,arr[si][sj]))\n",
    "\n",
    "    v[si][sj].add(arr[si][sj])\n",
    "\n",
    "    \n",
    "    while q:\n",
    "        \n",
    "        ci,cj,cv = q.popleft()\n",
    "        \n",
    "        ans = max(ans, len(cv))\n",
    "        \n",
    "        # 4방향, 범위내, 중복값이 아닌경우, 중복시퀀스 아닌경우\n",
    "        \n",
    "        for di,dj in ((-1,0),(1,0),(0,-1),(0,1)):\n",
    "            \n",
    "            ni,nj = ci+di, cj+dj\n",
    "            \n",
    "            if 0<=ni<R and 0<=nj<C and arr[ni][nj] not in cv:\n",
    "                \n",
    "                if cv+arr[ni][nj] not in v[ni][nj]:\n",
    "                    \n",
    "                    q.append((ni,nj,cv+arr[ni][nj]))\n",
    "                    v[ni][nj].add((cv+arr[ni][nj]))\n",
    "    \n",
    "    return ans\n",
    "\n",
    "\n"
   ]
  },
  {
   "cell_type": "code",
   "execution_count": null,
   "metadata": {},
   "outputs": [],
   "source": [
    "R, C = map(int, input().split())\n",
    "\n",
    "arr = [ list(input()) for _ in range(R) ]\n",
    "\n",
    "v = [ [ set() for _ in range(C) ] for _ in range(R) ] # set는 O(1)\n",
    "\n",
    "    \n",
    "ans = bfs(0,0)\n",
    "\n",
    "print(ans)"
   ]
  },
  {
   "cell_type": "code",
   "execution_count": null,
   "metadata": {},
   "outputs": [],
   "source": [
    "v"
   ]
  },
  {
   "cell_type": "markdown",
   "metadata": {},
   "source": [
    "---"
   ]
  },
  {
   "cell_type": "markdown",
   "metadata": {},
   "source": [
    "---"
   ]
  },
  {
   "cell_type": "markdown",
   "metadata": {},
   "source": [
    "## 시간초과 list"
   ]
  },
  {
   "cell_type": "code",
   "execution_count": null,
   "metadata": {},
   "outputs": [],
   "source": [
    "\n",
    "# list\n",
    "\n",
    "from collections import deque\n",
    "\n",
    "def bfs(si, sj):\n",
    "\n",
    "    q = deque()\n",
    "    \n",
    "    ans = 1\n",
    "\n",
    "    # q에 초기데이터(들) 삽입\n",
    "    \n",
    "    q.append((si,sj,arr[si][sj]))\n",
    "\n",
    "    v[si][sj].append(arr[si][sj])\n",
    "\n",
    "    \n",
    "    while q:\n",
    "        \n",
    "        ci,cj,cv = q.popleft()\n",
    "        \n",
    "        ans = max(ans, len(cv))\n",
    "        \n",
    "        # 4방향, 범위내, 중복값이 아닌경우, 중복시퀀스 아닌경우\n",
    "        \n",
    "        for di,dj in ((-1,0),(1,0),(0,-1),(0,1)):\n",
    "            \n",
    "            ni,nj = ci+di, cj+dj\n",
    "            \n",
    "            if 0<=ni<R and 0<=nj<C and arr[ni][nj] not in cv:\n",
    "                \n",
    "                q.append((ni,nj,cv+arr[ni][nj]))\n",
    "                v[ni][nj].append((cv+arr[ni][nj]))\n",
    "    \n",
    "    return ans\n"
   ]
  },
  {
   "cell_type": "code",
   "execution_count": null,
   "metadata": {},
   "outputs": [],
   "source": [
    "R, C = map(int, input().split())\n",
    "\n",
    "arr = [ list(input()) for _ in range(R) ]\n",
    "\n",
    "v = [ [ [] for _ in range(C) ] for _ in range(R) ] # set는 O(1)\n",
    "\n",
    "    \n",
    "ans = bfs(0,0)\n",
    "\n",
    "print(ans)"
   ]
  },
  {
   "cell_type": "code",
   "execution_count": null,
   "metadata": {},
   "outputs": [],
   "source": [
    "arr"
   ]
  },
  {
   "cell_type": "code",
   "execution_count": null,
   "metadata": {},
   "outputs": [],
   "source": [
    "v = [ [ [] for _ in range(C) ] for _ in range(R) ] # set는 O(1)\n",
    "    \n",
    "ans = bfs(0,0)\n",
    "\n",
    "print(ans)"
   ]
  },
  {
   "cell_type": "markdown",
   "metadata": {},
   "source": [
    "---"
   ]
  },
  {
   "cell_type": "markdown",
   "metadata": {},
   "source": [
    "## 시간초과 set"
   ]
  },
  {
   "cell_type": "code",
   "execution_count": 1,
   "metadata": {},
   "outputs": [],
   "source": [
    "# set \n",
    "\n",
    "from collections import deque\n",
    "\n",
    "def bfs(si, sj):\n",
    "\n",
    "    q = deque()\n",
    "    \n",
    "    ans = 1\n",
    "\n",
    "    # q에 초기데이터(들) 삽입\n",
    "    \n",
    "    q.append((si,sj,arr[si][sj]))\n",
    "\n",
    "    v[si][sj].add(arr[si][sj])\n",
    "\n",
    "    \n",
    "    while q:\n",
    "        \n",
    "        ci,cj,cv = q.popleft()\n",
    "        \n",
    "        ans = max(ans, len(cv))\n",
    "        \n",
    "        # 4방향, 범위내, 중복값이 아닌경우, 중복시퀀스 아닌경우\n",
    "        \n",
    "        for di,dj in ((-1,0),(1,0),(0,-1),(0,1)):\n",
    "            \n",
    "            ni,nj = ci+di, cj+dj\n",
    "            \n",
    "            if 0<=ni<R and 0<=nj<C and arr[ni][nj] not in cv:\n",
    "                                    \n",
    "                q.append((ni,nj,cv+arr[ni][nj]))\n",
    "                v[ni][nj].add((cv+arr[ni][nj]))\n",
    "    \n",
    "    return ans\n",
    "\n",
    "\n"
   ]
  },
  {
   "cell_type": "code",
   "execution_count": 4,
   "metadata": {},
   "outputs": [
    {
     "name": "stdout",
     "output_type": "stream",
     "text": [
      "5 5\n",
      "IEFCJ\n",
      "FHFKC\n",
      "FFALF\n",
      "HFGCF\n",
      "HMCHH\n",
      "10\n"
     ]
    }
   ],
   "source": [
    "R, C = map(int, input().split())\n",
    "\n",
    "arr = [ list(input()) for _ in range(R) ]\n",
    "\n",
    "v = [ [ set() for _ in range(C) ] for _ in range(R) ] # set는 O(1)\n",
    "\n",
    "    \n",
    "ans = bfs(0,0)\n",
    "\n",
    "print(ans)"
   ]
  }
 ],
 "metadata": {
  "hide_input": false,
  "kernelspec": {
   "display_name": "Python 3 (ipykernel)",
   "language": "python",
   "name": "python3"
  },
  "language_info": {
   "codemirror_mode": {
    "name": "ipython",
    "version": 3
   },
   "file_extension": ".py",
   "mimetype": "text/x-python",
   "name": "python",
   "nbconvert_exporter": "python",
   "pygments_lexer": "ipython3",
   "version": "3.8.16"
  },
  "toc": {
   "base_numbering": 1,
   "nav_menu": {},
   "number_sections": true,
   "sideBar": true,
   "skip_h1_title": false,
   "title_cell": "Table of Contents",
   "title_sidebar": "Contents",
   "toc_cell": false,
   "toc_position": {},
   "toc_section_display": true,
   "toc_window_display": false
  },
  "varInspector": {
   "cols": {
    "lenName": 16,
    "lenType": 16,
    "lenVar": 40
   },
   "kernels_config": {
    "python": {
     "delete_cmd_postfix": "",
     "delete_cmd_prefix": "del ",
     "library": "var_list.py",
     "varRefreshCmd": "print(var_dic_list())"
    },
    "r": {
     "delete_cmd_postfix": ") ",
     "delete_cmd_prefix": "rm(",
     "library": "var_list.r",
     "varRefreshCmd": "cat(var_dic_list()) "
    }
   },
   "types_to_exclude": [
    "module",
    "function",
    "builtin_function_or_method",
    "instance",
    "_Feature"
   ],
   "window_display": false
  }
 },
 "nbformat": 4,
 "nbformat_minor": 4
}
