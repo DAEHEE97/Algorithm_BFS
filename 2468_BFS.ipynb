{
 "cells": [
  {
   "cell_type": "markdown",
   "metadata": {},
   "source": [
    "# [BFS_2468](https://www.acmicpc.net/problem/2468)\n",
    "\n",
    "- 내리는 비의 양에 따른 모든 경우를 다 조사\n",
    "\n",
    "- 특정 h 조건에 따른 최대 영역 개수 처리\n",
    "\n",
    "- 아무 지역도 물에 잠기지 않을 수도 있다.\n",
    "    - h 0 ~ 100, 비가 하나도 안왔을때 부터 ~ 비가 모두 잠길때 까지\n"
   ]
  },
  {
   "cell_type": "markdown",
   "metadata": {},
   "source": [
    "---"
   ]
  },
  {
   "cell_type": "code",
   "execution_count": null,
   "metadata": {},
   "outputs": [],
   "source": [
    "# 영역의 개수만 cnt 하면 되므로, bfs에서는 정답 처리 할 필요 없음.\n",
    "# 단순 방문만 하면 됨\n",
    "\n",
    "from collections import deque\n",
    "\n",
    "def bfs(si, sj, h):\n",
    "    \n",
    "    q = deque()\n",
    "\n",
    "    q.append((si,sj))\n",
    "    v[si][sj] = 1\n",
    "\n",
    "    while q:\n",
    "        \n",
    "        ci,cj = q.popleft()\n",
    "        \n",
    "        # 네방향, 범위내, 미방문, 높이>h\n",
    "        \n",
    "        for di,dj in ((-1,0),(1,0),(0,-1),(0,1)):\n",
    "            \n",
    "            ni,nj = ci+di, cj+dj\n",
    "            \n",
    "            if 0<=ni<N and 0<=nj<N and v[ni][nj]==0 and arr[ni][nj]>h:\n",
    "                q.append((ni,nj))\n",
    "                v[ni][nj] = 1\n"
   ]
  },
  {
   "cell_type": "code",
   "execution_count": null,
   "metadata": {},
   "outputs": [],
   "source": [
    "# 미방문, 높이 보다 높다면, bfs 스타트\n",
    "# 영역의 개수만 cnt 하면 되므로, bfs를 몇번 처리 했냐로 처리하면 됨\n",
    "\n",
    "def solve(h): \n",
    "    \n",
    "    cnt = 0\n",
    "    \n",
    "    for si in range(0, N):\n",
    "        \n",
    "        for sj in range(0, N):\n",
    "            \n",
    "            if v[si][sj] == 0 and arr[si][sj] > h :\n",
    "                \n",
    "                bfs(si, sj, h)\n",
    "                cnt += 1\n",
    "                \n",
    "    return cnt"
   ]
  },
  {
   "cell_type": "code",
   "execution_count": null,
   "metadata": {},
   "outputs": [],
   "source": [
    "# 입력\n",
    "\n",
    "N = int(input())\n",
    "\n",
    "arr = [ list(map(int, input().split())) for _ in range(N) ]\n",
    "\n",
    "#  높이 0 ~ 100 까지 물 높이 지정\n",
    "\n",
    "ans = 0\n",
    "\n",
    "for h in range(1, 100+1): \n",
    "    \n",
    "    v = [ [0] * N for _ in range(N) ]\n",
    "    \n",
    "    ans = max(ans, solve(h))\n",
    "\n",
    "print(ans)"
   ]
  },
  {
   "cell_type": "markdown",
   "metadata": {},
   "source": [
    "---"
   ]
  },
  {
   "cell_type": "markdown",
   "metadata": {},
   "source": [
    "## 문제\n",
    "\n",
    "재난방재청에서는 많은 비가 내리는 장마철에 대비해서 다음과 같은 일을 계획하고 있다. \n",
    "\n",
    "먼저 어떤 지역의 높이 정보를 파악한다. \n",
    "\n",
    "그 다음에 그 지역에 많은 비가 내렸을 때 물에 잠기지 않는 안전한 영역이 최대로 몇 개가 만들어 지는 지를 조사하려고 한다.\n",
    "\n",
    "이때, 문제를 간단하게 하기 위하여, 장마철에 내리는 비의 양에 따라 일정한 높이 이하의 모든 지점은 물에 잠긴다고 가정한다.\n",
    "\n",
    "어떤 지역의 높이 정보는 행과 열의 크기가 각각 N인 2차원 배열 형태로 주어지며 배열의 각 원소는 해당 지점의 높이를 표시하는 자연수이다. 예를 들어, 다음은 N=5인 지역의 높이 정보이다.\n",
    "\n",
    "\n",
    "```\n",
    "6\t8\t2\t6\t2\n",
    "3\t2\t3\t4\t6\n",
    "6\t7\t3\t3\t2\n",
    "7\t2\t5\t3\t6\n",
    "8\t9\t5\t2\t7\n",
    "```\n",
    "이제 위와 같은 지역에 많은 비가 내려서 높이가 4 이하인 모든 지점이 물에 잠겼다고 하자. 이 경우에 물에 잠기는 지점을 회색으로 표시하면 다음과 같다. \n",
    "\n",
    "\n",
    "```\n",
    "6\t8\t2\t6\t2\n",
    "3\t2\t3\t4\t6\n",
    "6\t7\t3\t3\t2\n",
    "7\t2\t5\t3\t6\n",
    "8\t9\t5\t2\t7\n",
    "```\n",
    "물에 잠기지 않는 안전한 영역이라 함은 물에 잠기지 않는 지점들이 위, 아래, 오른쪽 혹은 왼쪽으로 인접해 있으며 그 크기가 최대인 영역을 말한다. \n",
    "\n",
    "위의 경우에서 물에 잠기지 않는 안전한 영역은 5개가 된다(꼭짓점으로만 붙어 있는 두 지점은 인접하지 않는다고 취급한다). \n",
    "\n",
    "또한 위와 같은 지역에서 높이가 6이하인 지점을 모두 잠기게 만드는 많은 비가 내리면 물에 잠기지 않는 안전한 영역은 아래 그림에서와 같이 네 개가 됨을 확인할 수 있다. \n",
    "\n",
    "```\n",
    "6\t8\t2\t6\t2\n",
    "3\t2\t3\t4\t6\n",
    "6\t7\t3\t3\t2\n",
    "7\t2\t5\t3\t6\n",
    "8\t9\t5\t2\t7\n",
    "```\n",
    "\n",
    "이와 같이 장마철에 내리는 비의 양에 따라서 물에 잠기지 않는 안전한 영역의 개수는 다르게 된다. \n",
    "\n",
    "위의 예와 같은 지역에서 내리는 비의 양에 따른 모든 경우를 다 조사해 보면 물에 잠기지 않는 안전한 영역의 개수 중에서 최대인 경우는 5임을 알 수 있다. \n",
    "\n",
    "어떤 지역의 높이 정보가 주어졌을 때, 장마철에 물에 잠기지 않는 안전한 영역의 최대 개수를 계산하는 프로그램을 작성하시오. \n",
    "\n",
    "\n",
    "## 입력\n",
    "\n",
    "첫째 줄에는 어떤 지역을 나타내는 2차원 배열의 행과 열의 개수를 나타내는 수 N이 입력된다. \n",
    "\n",
    "N은 2 이상 100 이하의 정수이다. 둘째 줄부터 N개의 각 줄에는 2차원 배열의 첫 번째 행부터 N번째 행까지 순서대로 한 행씩 높이 정보가 입력된다.\n",
    "\n",
    "각 줄에는 각 행의 첫 번째 열부터 N번째 열까지 N개의 높이 정보를 나타내는 자연수가 빈 칸을 사이에 두고 입력된다. \n",
    "\n",
    "높이는 1이상 100 이하의 정수이다.\n",
    "\n",
    "## 출력\n",
    "\n",
    "첫째 줄에 장마철에 물에 잠기지 않는 안전한 영역의 최대 개수를 출력한다."
   ]
  },
  {
   "cell_type": "markdown",
   "metadata": {},
   "source": [
    "---"
   ]
  },
  {
   "cell_type": "markdown",
   "metadata": {},
   "source": [
    "## Memo\n",
    "\n",
    "<img src = \"2468.png\" width = 500 height = 500>"
   ]
  },
  {
   "cell_type": "markdown",
   "metadata": {},
   "source": [
    "---"
   ]
  }
 ],
 "metadata": {
  "hide_input": false,
  "kernelspec": {
   "display_name": "Python 3 (ipykernel)",
   "language": "python",
   "name": "python3"
  },
  "language_info": {
   "codemirror_mode": {
    "name": "ipython",
    "version": 3
   },
   "file_extension": ".py",
   "mimetype": "text/x-python",
   "name": "python",
   "nbconvert_exporter": "python",
   "pygments_lexer": "ipython3",
   "version": "3.8.16"
  },
  "toc": {
   "base_numbering": 1,
   "nav_menu": {},
   "number_sections": true,
   "sideBar": true,
   "skip_h1_title": false,
   "title_cell": "Table of Contents",
   "title_sidebar": "Contents",
   "toc_cell": false,
   "toc_position": {},
   "toc_section_display": true,
   "toc_window_display": false
  },
  "varInspector": {
   "cols": {
    "lenName": 16,
    "lenType": 16,
    "lenVar": 40
   },
   "kernels_config": {
    "python": {
     "delete_cmd_postfix": "",
     "delete_cmd_prefix": "del ",
     "library": "var_list.py",
     "varRefreshCmd": "print(var_dic_list())"
    },
    "r": {
     "delete_cmd_postfix": ") ",
     "delete_cmd_prefix": "rm(",
     "library": "var_list.r",
     "varRefreshCmd": "cat(var_dic_list()) "
    }
   },
   "types_to_exclude": [
    "module",
    "function",
    "builtin_function_or_method",
    "instance",
    "_Feature"
   ],
   "window_display": false
  }
 },
 "nbformat": 4,
 "nbformat_minor": 4
}
