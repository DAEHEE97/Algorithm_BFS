{
 "cells": [
  {
   "cell_type": "markdown",
   "metadata": {},
   "source": [
    "# BFS_14503\n",
    "\n",
    "- [로봇청소기](https://www.acmicpc.net/problem/14503)"
   ]
  },
  {
   "cell_type": "code",
   "execution_count": null,
   "metadata": {},
   "outputs": [],
   "source": [
    "# dr: 북  동  남  서\n",
    "di = [-1,  0,  1,  0]\n",
    "dj = [ 0,  1,  0, -1]\n",
    "def solve(ci,cj,dr):\n",
    "    cnt = 0     # 청소한 공간 수\n",
    "    while 1:    # 청소기가 더이상 움직이지 못할때 종료\n",
    "        # [1] 현재위치 청소\n",
    "        arr[ci][cj] = 2\n",
    "        cnt+=1\n",
    "\n",
    "        # [2] 왼쪽방향으로 순서대로 탐색해서 미청소 영역이 있는경우 이동/방향설정, 없으면 후진\n",
    "        flag = 1\n",
    "        while flag==1:\n",
    "            # 왼쪽부터 네방향중 미청소 영역 있는 경우\n",
    "            for nd in ((dr+3)%4, (dr+2)%4, (dr+1)%4, dr):\n",
    "                ni,nj = ci+di[nd], cj+dj[nd]\n",
    "                if arr[ni][nj]==0:  # 미청소 영역\n",
    "                    ci,cj,dr = ni,nj,nd\n",
    "                    flag=0\n",
    "                    break\n",
    "            else:   # 4방향 모두 미청소 영역 없음 ==> 후진\n",
    "                bi,bj = ci-di[dr], cj-dj[dr]    # 후진할 위치 계산\n",
    "                if arr[bi][bj]==1:              # 벽! => 종료\n",
    "                    return cnt\n",
    "                else:\n",
    "                    ci,cj = bi,bj\n",
    "\n",
    "    # 이 곳에 도달할리는 없지만..\n",
    "    return -1\n",
    "\n",
    "N, M = map(int, input().split())\n",
    "si,sj,dr = map(int, input().split())\n",
    "arr = [list(map(int, input().split())) for _ in range(N)]\n",
    "\n",
    "ans = solve(si,sj,dr)\n",
    "print(ans)"
   ]
  }
 ],
 "metadata": {
  "hide_input": false,
  "kernelspec": {
   "display_name": "Python 3",
   "language": "python",
   "name": "python3"
  },
  "language_info": {
   "codemirror_mode": {
    "name": "ipython",
    "version": 3
   },
   "file_extension": ".py",
   "mimetype": "text/x-python",
   "name": "python",
   "nbconvert_exporter": "python",
   "pygments_lexer": "ipython3",
   "version": "3.8.5"
  },
  "toc": {
   "base_numbering": 1,
   "nav_menu": {},
   "number_sections": true,
   "sideBar": true,
   "skip_h1_title": false,
   "title_cell": "Table of Contents",
   "title_sidebar": "Contents",
   "toc_cell": false,
   "toc_position": {},
   "toc_section_display": true,
   "toc_window_display": false
  }
 },
 "nbformat": 4,
 "nbformat_minor": 4
}
