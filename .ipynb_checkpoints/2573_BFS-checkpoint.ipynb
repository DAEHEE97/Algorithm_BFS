{
 "cells": [
  {
   "cell_type": "markdown",
   "metadata": {},
   "source": [
    "# [BFS_2573](https://www.acmicpc.net/problem/2573)"
   ]
  },
  {
   "cell_type": "markdown",
   "metadata": {},
   "source": [
    "---"
   ]
  },
  {
   "cell_type": "markdown",
   "metadata": {},
   "source": [
    "## Memo\n",
    "\n",
    "- 2차원 입력\n",
    "\n",
    "- 한 덩어리의 빙산이 주어질 때, 이 빙산이 두 덩어리 이상으로 분리되는 최초의 시간(년)\n",
    "\n",
    "- 4방향, 범위내, \n",
    "\n",
    "- 1년의 시간 지남에 따른, BFS 처리\n",
    "\n",
    "\n",
    "- 이때 2개 이상으로 분기 가능해지면 return\n",
    "\n",
    "\n",
    "- BFS는 방문 하면서, 4방향으로 0의 개수 만큼 arr = arr - cnt\n"
   ]
  },
  {
   "cell_type": "markdown",
   "metadata": {},
   "source": [
    "---"
   ]
  },
  {
   "cell_type": "code",
   "execution_count": null,
   "metadata": {},
   "outputs": [],
   "source": [
    "# BFS는 단순 방문 처리만 수행\n",
    "\n",
    "from collections import deque\n",
    "\n",
    "def bfs(si, sj, v):\n",
    "    \n",
    "    q = deque()\n",
    "\n",
    "    q.append((si,sj))\n",
    "    v[si][sj]=1\n",
    "\n",
    "    while q:\n",
    "        \n",
    "        ci,cj = q.popleft()\n",
    "        # 네방향, 범위내(X), 미방문, >0\n",
    "        \n",
    "        for di,dj in ((-1,0),(1,0),(0,-1),(0,1)):\n",
    "            \n",
    "            ni,nj = ci+di, cj+dj\n",
    "            \n",
    "            if v[ni][nj]==0 and arr[ni][nj]>0:\n",
    "                \n",
    "                q.append((ni,nj))\n",
    "                v[ni][nj]=1"
   ]
  },
  {
   "cell_type": "code",
   "execution_count": null,
   "metadata": {},
   "outputs": [],
   "source": [
    "# solve에서 year에 따른 높이 감소 처리, 영역 개수 cnt 처리\n",
    "\n",
    "def solve(): # 1 ~ 900000 년, 전체순회 반복작업\n",
    "    \n",
    "    # 1) 네방향 0의 개수 카운트\n",
    "    for year in range(1, 900000):\n",
    "        \n",
    "        a_sub = [ [0]*M for _ in range(N) ]\n",
    "        \n",
    "        for i in range(1, N-1):\n",
    "            \n",
    "            for j in range(1, M-1):\n",
    "                \n",
    "                if arr[i][j] == 0:\n",
    "                    continue\n",
    "                \n",
    "                for di,dj in ((-1,0),(1,0),(0,-1),(0,1)):\n",
    "                    ni,nj = i+di, j+dj\n",
    "                    \n",
    "                    if arr[ni][nj] == 0:\n",
    "                        a_sub[i][j]+=1\n",
    "\n",
    "        # 2) 높이 낮추기, 높이 - 없음 최대 0 \n",
    "        for i in range(1, N-1):\n",
    "            \n",
    "            for j in range(1, M-1):\n",
    "                \n",
    "                if a_sub[i][j] > 0:\n",
    "                    arr[i][j] = max(0, arr[i][j]-a_sub[i][j])\n",
    "\n",
    "                    \n",
    "                    \n",
    "        # 3) 빙산 영역 개수 카운트\n",
    "        v = [ [0] * M for _ in range(N) ]\n",
    "        \n",
    "        cnt = 0\n",
    "        \n",
    "        for i in range(1, N-1):\n",
    "            \n",
    "            for j in range(1, M-1):\n",
    "                \n",
    "                if v[i][j] == 0 and arr[i][j] > 0:\n",
    "                    \n",
    "                    bfs(i, j, v)\n",
    "                    cnt += 1\n",
    "                    \n",
    "                    if cnt >= 2 : # 두 덩어리 이상...\n",
    "                        return year\n",
    "        \n",
    "        if cnt == 0:  # 만일 전부 다 녹을 때까지 두 덩어리 이상으로 분리되지 않으면 프로그램은 0\n",
    "            return 0\n",
    "    \n",
    "    \n",
    "    return -1"
   ]
  },
  {
   "cell_type": "code",
   "execution_count": null,
   "metadata": {},
   "outputs": [],
   "source": [
    "N, M = map(int, input().split())\n",
    "\n",
    "arr = [ list(map(int, input().split())) for _ in range(N) ]\n",
    "\n",
    "ans = solve()\n",
    "\n",
    "print(ans)"
   ]
  },
  {
   "cell_type": "markdown",
   "metadata": {},
   "source": [
    "---"
   ]
  },
  {
   "cell_type": "markdown",
   "metadata": {},
   "source": [
    "## 문제\n",
    "지구 온난화로 인하여 북극의 빙산이 녹고 있다. 빙산을 그림 1과 같이 2차원 배열에 표시한다고 하자. 빙산의 각 부분별 높이 정보는 배열의 각 칸에 양의 정수로 저장된다. 빙산 이외의 바다에 해당되는 칸에는 0이 저장된다. 그림 1에서 빈칸은 모두 0으로 채워져 있다고 생각한다.\n",
    "\n",
    "\n",
    "\n",
    "빙산의 높이는 바닷물에 많이 접해있는 부분에서 더 빨리 줄어들기 때문에, 배열에서 빙산의 각 부분에 해당되는 칸에 있는 높이는 일년마다 그 칸에 동서남북 네 방향으로 붙어있는 0이 저장된 칸의 개수만큼 줄어든다. 단, 각 칸에 저장된 높이는 0보다 더 줄어들지 않는다. 바닷물은 호수처럼 빙산에 둘러싸여 있을 수도 있다. 따라서 그림 1의 빙산은 일년후에 그림 2와 같이 변형된다.\n",
    "\n",
    "\n",
    "그림 3은 그림 1의 빙산이 2년 후에 변한 모습을 보여준다. 2차원 배열에서 동서남북 방향으로 붙어있는 칸들은 서로 연결되어 있다고 말한다. 따라서 그림 2의 빙산은 한 덩어리이지만, 그림 3의 빙산은 세 덩어리로 분리되어 있다.\n",
    "\n",
    "\n",
    "한 덩어리의 빙산이 주어질 때, 이 빙산이 두 덩어리 이상으로 분리되는 최초의 시간(년)을 구하는 프로그램을 작성하시오. 그림 1의 빙산에 대해서는 2가 답이다. 만일 전부 다 녹을 때까지 두 덩어리 이상으로 분리되지 않으면 프로그램은 0을 출력한다.\n",
    "\n",
    "## 입력\n",
    "첫 줄에는 이차원 배열의 행의 개수와 열의 개수를 나타내는 두 정수 N과 M이 한 개의 빈칸을 사이에 두고 주어진다. N과 M은 3 이상 300 이하이다. 그 다음 N개의 줄에는 각 줄마다 배열의 각 행을 나타내는 M개의 정수가 한 개의 빈 칸을 사이에 두고 주어진다. 각 칸에 들어가는 값은 0 이상 10 이하이다. 배열에서 빙산이 차지하는 칸의 개수, 즉, 1 이상의 정수가 들어가는 칸의 개수는 10,000 개 이하이다. 배열의 첫 번째 행과 열, 마지막 행과 열에는 항상 0으로 채워진다.\n",
    "\n",
    "## 출력\n",
    "첫 줄에 빙산이 분리되는 최초의 시간(년)을 출력한다. 만일 빙산이 다 녹을 때까지 분리되지 않으면 0을 출력한다.\n",
    "\n"
   ]
  }
 ],
 "metadata": {
  "hide_input": false,
  "kernelspec": {
   "display_name": "Python 3 (ipykernel)",
   "language": "python",
   "name": "python3"
  },
  "language_info": {
   "codemirror_mode": {
    "name": "ipython",
    "version": 3
   },
   "file_extension": ".py",
   "mimetype": "text/x-python",
   "name": "python",
   "nbconvert_exporter": "python",
   "pygments_lexer": "ipython3",
   "version": "3.8.16"
  },
  "toc": {
   "base_numbering": 1,
   "nav_menu": {},
   "number_sections": true,
   "sideBar": true,
   "skip_h1_title": false,
   "title_cell": "Table of Contents",
   "title_sidebar": "Contents",
   "toc_cell": false,
   "toc_position": {},
   "toc_section_display": true,
   "toc_window_display": false
  },
  "varInspector": {
   "cols": {
    "lenName": 16,
    "lenType": 16,
    "lenVar": 40
   },
   "kernels_config": {
    "python": {
     "delete_cmd_postfix": "",
     "delete_cmd_prefix": "del ",
     "library": "var_list.py",
     "varRefreshCmd": "print(var_dic_list())"
    },
    "r": {
     "delete_cmd_postfix": ") ",
     "delete_cmd_prefix": "rm(",
     "library": "var_list.r",
     "varRefreshCmd": "cat(var_dic_list()) "
    }
   },
   "types_to_exclude": [
    "module",
    "function",
    "builtin_function_or_method",
    "instance",
    "_Feature"
   ],
   "window_display": false
  }
 },
 "nbformat": 4,
 "nbformat_minor": 4
}
