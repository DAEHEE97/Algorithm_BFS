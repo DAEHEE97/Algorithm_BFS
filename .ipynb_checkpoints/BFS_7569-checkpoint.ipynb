{
 "cells": [
  {
   "cell_type": "markdown",
   "metadata": {},
   "source": [
    "# BFS_7569\n",
    "\n",
    "- [토마토](https://www.acmicpc.net/problem/7569)"
   ]
  },
  {
   "cell_type": "markdown",
   "metadata": {},
   "source": [
    "## 문제\n",
    "철수의 토마토 농장에서는 토마토를 보관하는 큰 창고를 가지고 있다. 토마토는 아래의 그림과 같이 격자모양 상자의 칸에 하나씩 넣은 다음, 상자들을 수직으로 쌓아 올려서 창고에 보관한다.\n",
    "\n",
    "<img src = https://upload.acmicpc.net/c3f3343d-c291-40a9-9fe3-59f792a8cae9/-/preview/>\n",
    "창고에 보관되는 토마토들 중에는 잘 익은 것도 있지만, 아직 익지 않은 토마토들도 있을 수 있다. 보관 후 하루가 지나면, 익은 토마토들의 인접한 곳에 있는 익지 않은 토마토들은 익은 토마토의 영향을 받아 익게 된다. 하나의 토마토에 인접한 곳은 위, 아래, 왼쪽, 오른쪽, 앞, 뒤 여섯 방향에 있는 토마토를 의미한다. 대각선 방향에 있는 토마토들에게는 영향을 주지 못하며, 토마토가 혼자 저절로 익는 경우는 없다고 가정한다. 철수는 창고에 보관된 토마토들이 며칠이 지나면 다 익게 되는지 그 최소 일수를 알고 싶어 한다.\n",
    "\n",
    "토마토를 창고에 보관하는 격자모양의 상자들의 크기와 익은 토마토들과 익지 않은 토마토들의 정보가 주어졌을 때, 며칠이 지나면 토마토들이 모두 익는지, 그 최소 일수를 구하는 프로그램을 작성하라. 단, 상자의 일부 칸에는 토마토가 들어있지 않을 수도 있다.\n",
    "\n",
    "## 입력\n",
    "첫 줄에는 상자의 크기를 나타내는 두 정수 M,N과 쌓아올려지는 상자의 수를 나타내는 H가 주어진다. M은 상자의 가로 칸의 수, N은 상자의 세로 칸의 수를 나타낸다. 단, 2 ≤ M ≤ 100, 2 ≤ N ≤ 100, 1 ≤ H ≤ 100 이다. 둘째 줄부터는 가장 밑의 상자부터 가장 위의 상자까지에 저장된 토마토들의 정보가 주어진다. 즉, 둘째 줄부터 N개의 줄에는 하나의 상자에 담긴 토마토의 정보가 주어진다. 각 줄에는 상자 가로줄에 들어있는 토마토들의 상태가 M개의 정수로 주어진다. 정수 1은 익은 토마토, 정수 0 은 익지 않은 토마토, 정수 -1은 토마토가 들어있지 않은 칸을 나타낸다. 이러한 N개의 줄이 H번 반복하여 주어진다.\n",
    "\n",
    "토마토가 하나 이상 있는 경우만 입력으로 주어진다.\n",
    "\n",
    "## 출력\n",
    "여러분은 토마토가 모두 익을 때까지 최소 며칠이 걸리는지를 계산해서 출력해야 한다. 만약, 저장될 때부터 모든 토마토가 익어있는 상태이면 0을 출력해야 하고, 토마토가 모두 익지는 못하는 상황이면 -1을 출력해야 한다."
   ]
  },
  {
   "cell_type": "markdown",
   "metadata": {},
   "source": [
    "---"
   ]
  },
  {
   "cell_type": "code",
   "execution_count": null,
   "metadata": {},
   "outputs": [],
   "source": [
    "from collections import deque\n",
    "def bfs():\n",
    "    # [1] q생성, v[]생성\n",
    "    q = deque()\n",
    "    v = [[[0]*M for _ in range(N)] for _ in range(H)]\n",
    "\n",
    "    # [2] q에 초기데이터(들) 삽입, 안익은 토마토 카운트\n",
    "    cnt = 0\n",
    "    for h in range(H):              # 전체순회하며 처리\n",
    "        for i in range(N):\n",
    "            for j in range(M):\n",
    "                if arr[h][i][j]==1: # 익은토마토\n",
    "                    q.append((h,i,j))\n",
    "                    v[h][i][j]=1\n",
    "                elif arr[h][i][j]==0: # 안익은토마토\n",
    "                    cnt += 1\n",
    "\n",
    "    while q:\n",
    "        ch,ci,cj = q.popleft()\n",
    "\n",
    "        # 6방향, 범위내, 미방문, arr[] == 0\n",
    "        for dh,di,dj in ((0,-1,0),(0,1,0),(0,0,-1),(0,0,1),(-1,0,0),(1,0,0)):\n",
    "            nh,ni,nj = ch+dh, ci+di, cj+dj\n",
    "            if 0<=nh<H and 0<=ni<N and 0<=nj<M and v[nh][ni][nj]==0 and arr[nh][ni][nj]==0:\n",
    "                q.append((nh,ni,nj))\n",
    "                v[nh][ni][nj] = v[ch][ci][cj]+1\n",
    "                cnt -= 1    # 안익은 토마토 1개 익음\n",
    "\n",
    "    if cnt==0:              # 모든 토마토 익었음\n",
    "        return v[ch][ci][cj]-1\n",
    "    else:\n",
    "        return -1\n",
    "\n",
    "M, N, H = map(int, input().split())\n",
    "arr = [[list(map(int, input().split())) for _ in range(N)] for _ in range(H)]\n",
    "ans = bfs()\n",
    "print(ans)"
   ]
  }
 ],
 "metadata": {
  "hide_input": false,
  "kernelspec": {
   "display_name": "Python 3",
   "language": "python",
   "name": "python3"
  },
  "language_info": {
   "codemirror_mode": {
    "name": "ipython",
    "version": 3
   },
   "file_extension": ".py",
   "mimetype": "text/x-python",
   "name": "python",
   "nbconvert_exporter": "python",
   "pygments_lexer": "ipython3",
   "version": "3.8.5"
  },
  "toc": {
   "base_numbering": 1,
   "nav_menu": {},
   "number_sections": true,
   "sideBar": true,
   "skip_h1_title": false,
   "title_cell": "Table of Contents",
   "title_sidebar": "Contents",
   "toc_cell": false,
   "toc_position": {},
   "toc_section_display": true,
   "toc_window_display": false
  }
 },
 "nbformat": 4,
 "nbformat_minor": 4
}
