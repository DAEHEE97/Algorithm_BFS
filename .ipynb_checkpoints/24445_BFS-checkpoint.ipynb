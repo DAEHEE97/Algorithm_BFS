{
 "cells": [
  {
   "cell_type": "markdown",
   "id": "da213367",
   "metadata": {},
   "source": [
    "# [24445_BFS](https://www.acmicpc.net/problem/24445)\n",
    "\n",
    "- 인접 정점은 내림차순으로 방문\n"
   ]
  },
  {
   "cell_type": "markdown",
   "id": "521821a4",
   "metadata": {},
   "source": [
    "## 시간초과 - sys"
   ]
  },
  {
   "cell_type": "markdown",
   "id": "61c17e59",
   "metadata": {},
   "source": [
    "---"
   ]
  },
  {
   "cell_type": "markdown",
   "id": "d82cf6e6",
   "metadata": {},
   "source": [
    "## v 로 처리"
   ]
  },
  {
   "cell_type": "code",
   "execution_count": 1,
   "id": "f6368312",
   "metadata": {},
   "outputs": [],
   "source": [
    "from collections import deque\n",
    "import sys\n",
    "\n",
    "input = sys.stdin.readline\n",
    "\n",
    "\n",
    "def bfs(s):\n",
    "    \n",
    "    # 큐, 방문 표시 리스트 생성\n",
    "    q = deque()\n",
    "    \n",
    "    # 시작 노드 방문 처리 및 큐 삽입\n",
    "    \n",
    "    cnt = 1\n",
    "    v[s] = cnt\n",
    "    \n",
    "    q.append(s)\n",
    "    \n",
    "    \n",
    "    # q가 빌때 까지 처리\n",
    "    \n",
    "    while q:\n",
    "        \n",
    "        c = q.popleft()\n",
    "        \n",
    "        # 인접 노드 모두 검사, 미방문 방문 처리\n",
    "        for n in adj[c]:\n",
    "            \n",
    "            if v[n] == 0 :\n",
    "                cnt += 1\n",
    "                v[n] = cnt\n",
    "                \n",
    "                q.append(n) # 큐에 삽입하여, 이거랑 연결되어 있는 노드도 검색\n",
    "                \n",
    "                    "
   ]
  },
  {
   "cell_type": "code",
   "execution_count": 2,
   "id": "8dc9a00f",
   "metadata": {},
   "outputs": [
    {
     "name": "stdout",
     "output_type": "stream",
     "text": [
      "5 5 1\n",
      "1 4\n",
      "1 2\n",
      "2 3\n",
      "2 4\n",
      "3 4\n",
      "1\n",
      "2\n",
      "4\n",
      "3\n",
      "0\n"
     ]
    }
   ],
   "source": [
    "# 정점의 개수, 간선의 개수, 탐색 시장 정점\n",
    "\n",
    "N, M, S = map(int, input().split())\n",
    "\n",
    "adj = [ [] for _ in range(N+1) ]\n",
    "\n",
    "for _ in range(M):\n",
    "    s, e = map(int, input().split())\n",
    "    \n",
    "    adj[s].append(e)\n",
    "    adj[e].append(s)    \n",
    "\n",
    "    \n",
    "for lst in adj:\n",
    "    lst.sort(reverse=True)\n",
    "    \n",
    "v = [0] * (N+1) \n",
    "\n",
    "bfs(S)\n",
    "\n",
    "for i in v[1:]:\n",
    "    print(i)"
   ]
  },
  {
   "cell_type": "markdown",
   "id": "99d9129e",
   "metadata": {},
   "source": [
    "---"
   ]
  },
  {
   "cell_type": "markdown",
   "id": "50b8e72d",
   "metadata": {},
   "source": [
    "## ans 처리"
   ]
  },
  {
   "cell_type": "code",
   "execution_count": null,
   "id": "9da615a1",
   "metadata": {},
   "outputs": [],
   "source": [
    "from collections import deque\n",
    "import sys\n",
    "input = sys.stdin.readline\n",
    "\n",
    "def bfs(s):\n",
    "    \n",
    "    # 큐, 방문 표시 리스트 생성\n",
    "    q = deque()\n",
    "    v = [0] * (N+1) \n",
    "    \n",
    "    # 시작 노드 방문 처리 및 큐 삽입\n",
    "    v[s] = 1\n",
    "    q.append(s)\n",
    "    \n",
    "    # 정답 처리\n",
    "    cnt = 1\n",
    "    ans[s] = cnt\n",
    "    \n",
    "    # q가 빌때 까지 처리\n",
    "    \n",
    "    while q:\n",
    "        \n",
    "        c = q.popleft()\n",
    "        \n",
    "        # 인접 노드 모두 검사, 미방문 방문 처리\n",
    "        for n in adj[c]:\n",
    "            \n",
    "            if v[n] == 0 :\n",
    "                v[n] = 1\n",
    "                q.append(n) # 큐에 삽입하여, 이거랑 연결되어 있는 노드도 검색\n",
    "                \n",
    "                cnt +=1\n",
    "                ans[n] = cnt # 정답 처리\n",
    "                    "
   ]
  },
  {
   "cell_type": "markdown",
   "id": "8c3d1bd6",
   "metadata": {},
   "source": [
    "---"
   ]
  },
  {
   "cell_type": "code",
   "execution_count": null,
   "id": "3ead74c4",
   "metadata": {},
   "outputs": [],
   "source": [
    "# 정점의 개수, 간선의 개수, 탐색 시장 정점\n",
    "\n",
    "N, M, S = map(int, input().split())\n",
    "\n",
    "adj = [ [] for _ in range(N+1) ]\n",
    "\n",
    "for _ in range(M):\n",
    "    s, e = map(int, input().split())\n",
    "    \n",
    "    adj[s].append(e)\n",
    "    adj[e].append(s)    \n",
    "\n",
    "    \n",
    "for lst in adj:\n",
    "    lst.sort(reverse=True)\n",
    "    \n",
    "ans = [0] * (N+1)  \n",
    "\n",
    "bfs(S)\n"
   ]
  },
  {
   "cell_type": "code",
   "execution_count": null,
   "id": "517a08df",
   "metadata": {},
   "outputs": [],
   "source": [
    "\n",
    "for i in ans[1:]:\n",
    "    print(i)"
   ]
  },
  {
   "cell_type": "markdown",
   "id": "36524643",
   "metadata": {},
   "source": [
    "---"
   ]
  }
 ],
 "metadata": {
  "kernelspec": {
   "display_name": "Python 3 (ipykernel)",
   "language": "python",
   "name": "python3"
  },
  "language_info": {
   "codemirror_mode": {
    "name": "ipython",
    "version": 3
   },
   "file_extension": ".py",
   "mimetype": "text/x-python",
   "name": "python",
   "nbconvert_exporter": "python",
   "pygments_lexer": "ipython3",
   "version": "3.8.16"
  },
  "toc": {
   "base_numbering": 1,
   "nav_menu": {},
   "number_sections": true,
   "sideBar": true,
   "skip_h1_title": false,
   "title_cell": "Table of Contents",
   "title_sidebar": "Contents",
   "toc_cell": false,
   "toc_position": {},
   "toc_section_display": true,
   "toc_window_display": false
  },
  "varInspector": {
   "cols": {
    "lenName": 16,
    "lenType": 16,
    "lenVar": 40
   },
   "kernels_config": {
    "python": {
     "delete_cmd_postfix": "",
     "delete_cmd_prefix": "del ",
     "library": "var_list.py",
     "varRefreshCmd": "print(var_dic_list())"
    },
    "r": {
     "delete_cmd_postfix": ") ",
     "delete_cmd_prefix": "rm(",
     "library": "var_list.r",
     "varRefreshCmd": "cat(var_dic_list()) "
    }
   },
   "types_to_exclude": [
    "module",
    "function",
    "builtin_function_or_method",
    "instance",
    "_Feature"
   ],
   "window_display": false
  }
 },
 "nbformat": 4,
 "nbformat_minor": 5
}
