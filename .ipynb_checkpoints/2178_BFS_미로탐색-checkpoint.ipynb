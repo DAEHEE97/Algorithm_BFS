{
 "cells": [
  {
   "cell_type": "markdown",
   "metadata": {},
   "source": [
    "# [BFS_2178](https://www.acmicpc.net/problem/2178)\n",
    "\n",
    "\n",
    "- 방문 레벨 처리\n",
    "\n",
    "- 최단 거리(최소 칸수)"
   ]
  },
  {
   "cell_type": "markdown",
   "metadata": {},
   "source": [
    "---"
   ]
  },
  {
   "cell_type": "markdown",
   "metadata": {},
   "source": [
    "## 문제\n",
    "\n",
    "N × M 크기의 배열로 표현되는 미로가 있다.\n",
    "\n",
    "\n",
    "```\n",
    "1\t0\t1\t1\t1\t1\n",
    "1\t0\t1\t0\t1\t0\n",
    "1\t0\t1\t0\t1\t1\n",
    "1\t1\t1\t0\t1\t1\n",
    "```\n",
    "\n",
    "미로에서 1은 이동할 수 있는 칸을 나타내고, 0은 이동할 수 없는 칸을 나타낸다. \n",
    "\n",
    "이러한 미로가 주어졌을 때, (1, 1)에서 출발하여 (N, M)의 위치로 이동할 때 지나야 하는 최소의 칸 수를 구하는 프로그램을 작성하시오. \n",
    "\n",
    "한 칸에서 다른 칸으로 이동할 때, 서로 인접한 칸으로만 이동할 수 있다.\n",
    "\n",
    "위의 예에서는 15칸을 지나야 (N, M)의 위치로 이동할 수 있다. \n",
    "\n",
    "칸을 셀 때에는 시작 위치와 도착 위치도 포함한다."
   ]
  },
  {
   "cell_type": "markdown",
   "metadata": {},
   "source": [
    "\n",
    "---"
   ]
  },
  {
   "cell_type": "markdown",
   "metadata": {},
   "source": [
    "## Memo\n",
    "\n",
    "\n",
    "- 2차원 배열 arr\n",
    "\n",
    "- 방문 처리 조건 : 4방향, 범위내, 미방문, arr value 1, \n",
    "\n",
    "- 정답 처리 : 최단 거리, 시작 지점으로 부터 도착 지점 까지의 거리, 칸 수 -> 방문 표시 arr 에 정답 처리\n",
    "\n",
    "```\n",
    "N 열(i) 세로 0 ~ N-1 \n",
    "\n",
    "M 행(j) 가로 0 ~ M-1\n",
    "\n",
    "\n",
    "상 하 좌 우\n",
    "(-1,0), (1,0), (0,-1), (0,1)\n",
    "\n",
    "\n",
    "        ↑ (-1,0)\n",
    "        |\n",
    "(0,-1)  ← (0,0) → (0,1) → (0,2)\n",
    "        |\n",
    "        ↓ (1,0)\n",
    "\n",
    "\n",
    "```\n",
    "\n",
    "\n",
    "\n",
    "\n",
    "- direction 방향 tuple형이므로, 추가할 때 append((si,sj)), 비교할 때도 if((si,sj)==(ei,ej))\n",
    "\n",
    "\n",
    "\n",
    "- 정답처리가 칸수 count인데, 첫번째 칸 포함해서 카운트 하므로, -1 안하고 종료\n",
    "\n",
    "\n",
    "\n",
    "- 방문 표시를 +1 를 적축하며 + 1씩 `v[ni][nj] = v[ci][cj]+1` 처리\n",
    "\n",
    "\n",
    "\n",
    "- bfs 함수내에서 cnt 변수로 실제 카운터 하면, 인접 노드를 모두 방문하므로, 최단거리 계산이 안됨. 방문 한 노드의 개수 카운터 됨"
   ]
  },
  {
   "cell_type": "markdown",
   "metadata": {},
   "source": [
    "---"
   ]
  },
  {
   "cell_type": "markdown",
   "metadata": {},
   "source": [
    "<img src = \"2178.png\" width = 500 height = 500 >"
   ]
  },
  {
   "cell_type": "code",
   "execution_count": 1,
   "metadata": {},
   "outputs": [],
   "source": [
    "from collections import deque\n",
    "\n",
    "def bfs(si,sj,ei,ej):\n",
    "    \n",
    "    # 1-1) 덱 생성, arr과 크기가 같은 2차원 배열 생성\n",
    "    q = deque()\n",
    "    # v = [ [0] * M for _ in range(N) ] \n",
    "    \n",
    "    # 1-2) start\n",
    "    q.append((si,sj))\n",
    "    v[si][sj] = 1\n",
    "    \n",
    "    while q:\n",
    "        \n",
    "        ci,cj = q.popleft()\n",
    "        \n",
    "        # 3 ) 정답처리, 도착\n",
    "        if (ci,cj) == (ei,ej):\n",
    "            return v[ei][ej]\n",
    "        \n",
    "        # 2-1) 4방향\n",
    "        for di, dj in ((1,0),(0,1),(-1,0),(0,-1)):\n",
    "            \n",
    "            ni, nj = ci+di, cj+dj\n",
    "            \n",
    "            # 2-2) 범위내, 방문가능, 미방문 \n",
    "            if 0<=ni<N and 0<=nj<M and arr[ni][nj] == 1 and v[ni][nj] == 0:\n",
    "                \n",
    "                # 2-3) 방문 레벨 처리\n",
    "                q.append((ni,nj))\n",
    "                v[ni][nj] = v[ci][cj] + 1\n",
    "    \n",
    "    # exit\n",
    "    return -1\n",
    "    \n",
    "\n"
   ]
  },
  {
   "cell_type": "code",
   "execution_count": 2,
   "metadata": {},
   "outputs": [
    {
     "name": "stdout",
     "output_type": "stream",
     "text": [
      "4 6\n",
      "101111\n",
      "101010\n",
      "101011\n",
      "111011\n"
     ]
    },
    {
     "data": {
      "text/plain": [
       "15"
      ]
     },
     "execution_count": 2,
     "metadata": {},
     "output_type": "execute_result"
    }
   ],
   "source": [
    "N, M = map(int, input().split())\n",
    "\n",
    "arr = [ list((map(int, input()))) for _ in range(N) ]\n",
    "\n",
    "v = [ [0] * M for _ in range(N) ] \n",
    "\n",
    "# 시작, 도착 idx 0,0, N-1, M-1 \n",
    "\n",
    "si,sj = 0, 0\n",
    "ei,ej = N-1, M-1\n",
    "\n",
    "bfs(si,sj,ei,ej)"
   ]
  },
  {
   "cell_type": "code",
   "execution_count": 3,
   "metadata": {},
   "outputs": [
    {
     "data": {
      "text/plain": [
       "[[1, 0, 1, 1, 1, 1],\n",
       " [1, 0, 1, 0, 1, 0],\n",
       " [1, 0, 1, 0, 1, 1],\n",
       " [1, 1, 1, 0, 1, 1]]"
      ]
     },
     "execution_count": 3,
     "metadata": {},
     "output_type": "execute_result"
    }
   ],
   "source": [
    "arr"
   ]
  },
  {
   "cell_type": "code",
   "execution_count": 4,
   "metadata": {},
   "outputs": [
    {
     "data": {
      "text/plain": [
       "[[1, 0, 9, 10, 11, 12],\n",
       " [2, 0, 8, 0, 12, 0],\n",
       " [3, 0, 7, 0, 13, 14],\n",
       " [4, 5, 6, 0, 14, 15]]"
      ]
     },
     "execution_count": 4,
     "metadata": {},
     "output_type": "execute_result"
    }
   ],
   "source": [
    "v"
   ]
  },
  {
   "cell_type": "markdown",
   "metadata": {},
   "source": [
    "---"
   ]
  },
  {
   "cell_type": "markdown",
   "metadata": {},
   "source": [
    "## 만약 2차원 배열에서 방문 가능한 모든 노드의 개수를 카운트 해라"
   ]
  },
  {
   "cell_type": "code",
   "execution_count": null,
   "metadata": {},
   "outputs": [],
   "source": [
    "# 2차원에서는 .count 안됨\n",
    "v.count(0) \n",
    "\n",
    "# 순회 해야 함\n",
    "cnt = 0\n",
    "\n",
    "for i in range(N):\n",
    "    for j in range(M):\n",
    "        if v[i][j] != 0:\n",
    "            cnt+=1\n",
    "            \n",
    "print(cnt)"
   ]
  }
 ],
 "metadata": {
  "hide_input": false,
  "kernelspec": {
   "display_name": "Python 3 (ipykernel)",
   "language": "python",
   "name": "python3"
  },
  "language_info": {
   "codemirror_mode": {
    "name": "ipython",
    "version": 3
   },
   "file_extension": ".py",
   "mimetype": "text/x-python",
   "name": "python",
   "nbconvert_exporter": "python",
   "pygments_lexer": "ipython3",
   "version": "3.8.16"
  },
  "toc": {
   "base_numbering": 1,
   "nav_menu": {},
   "number_sections": true,
   "sideBar": true,
   "skip_h1_title": false,
   "title_cell": "Table of Contents",
   "title_sidebar": "Contents",
   "toc_cell": false,
   "toc_position": {},
   "toc_section_display": true,
   "toc_window_display": false
  },
  "varInspector": {
   "cols": {
    "lenName": 16,
    "lenType": 16,
    "lenVar": 40
   },
   "kernels_config": {
    "python": {
     "delete_cmd_postfix": "",
     "delete_cmd_prefix": "del ",
     "library": "var_list.py",
     "varRefreshCmd": "print(var_dic_list())"
    },
    "r": {
     "delete_cmd_postfix": ") ",
     "delete_cmd_prefix": "rm(",
     "library": "var_list.r",
     "varRefreshCmd": "cat(var_dic_list()) "
    }
   },
   "types_to_exclude": [
    "module",
    "function",
    "builtin_function_or_method",
    "instance",
    "_Feature"
   ],
   "window_display": false
  }
 },
 "nbformat": 4,
 "nbformat_minor": 4
}
