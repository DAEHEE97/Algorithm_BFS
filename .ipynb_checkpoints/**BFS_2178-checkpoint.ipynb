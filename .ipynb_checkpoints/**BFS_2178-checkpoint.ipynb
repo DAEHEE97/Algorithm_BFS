{
 "cells": [
  {
   "cell_type": "markdown",
   "metadata": {},
   "source": [
    "# BFS_2178 \n",
    "\n",
    "- [미로 탐색](https://www.acmicpc.net/problem/2178)\n",
    "\n",
    "- 2차원 배열 내, start end 최단 거리(최소 칸수)"
   ]
  },
  {
   "cell_type": "markdown",
   "metadata": {},
   "source": [
    "## 문제\n",
    "\n",
    "N × M 크기의 배열로 표현되는 미로가 있다.\n",
    "\n",
    "\n",
    "```\n",
    "1\t0\t1\t1\t1\t1\n",
    "1\t0\t1\t0\t1\t0\n",
    "1\t0\t1\t0\t1\t1\n",
    "1\t1\t1\t0\t1\t1\n",
    "```\n",
    "\n",
    "\n",
    "\n",
    "미로에서 1은 이동할 수 있는 칸을 나타내고, 0은 이동할 수 없는 칸을 나타낸다. \n",
    "\n",
    "이러한 미로가 주어졌을 때, (1, 1)에서 출발하여 (N, M)의 위치로 이동할 때 지나야 하는 최소의 칸 수를 구하는 프로그램을 작성하시오. \n",
    "\n",
    "한 칸에서 다른 칸으로 이동할 때, 서로 인접한 칸으로만 이동할 수 있다.\n",
    "\n",
    "위의 예에서는 15칸을 지나야 (N, M)의 위치로 이동할 수 있다. \n",
    "\n",
    "칸을 셀 때에는 시작 위치와 도착 위치도 포함한다.\n",
    "\n",
    "## 입력\n",
    "\n",
    "첫째 줄에 두 정수 N, M(2 ≤ N, M ≤ 100)이 주어진다. \n",
    "\n",
    "다음 N개의 줄에는 M개의 정수로 미로가 주어진다. 각각의 수들은 붙어서 입력으로 주어진다.\n",
    "\n",
    "## 출력\n",
    "\n",
    "첫째 줄에 지나야 하는 최소의 칸 수를 출력한다. 항상 도착위치로 이동할 수 있는 경우만 입력으로 주어진다.\n"
   ]
  },
  {
   "cell_type": "markdown",
   "metadata": {},
   "source": [
    "<img src = \"2178.png\" width = 500 height = 500 >"
   ]
  },
  {
   "cell_type": "markdown",
   "metadata": {},
   "source": [
    "\n",
    "---"
   ]
  },
  {
   "cell_type": "markdown",
   "metadata": {},
   "source": [
    "## Memo\n",
    "\n",
    "\n",
    "- 입력 2차원 배열 arr\n",
    "\n",
    "\n",
    "- 방문 표시 배열이면서, 정답 처리 배열 v\n",
    "\n",
    "\n",
    "- 4방향, 범위내, 방문x, 문제 조건 1 > 방문 처리\n",
    "\n",
    "\n",
    "\n",
    "\n",
    "```\n",
    "N 열(i) 세로 0 ~ N-1 \n",
    "\n",
    "M 행(j) 가로 0 ~ M-1\n",
    "\n",
    "\n",
    "상 하 좌 우\n",
    "(-1,0), (1,0), (0,-1), (0,1)\n",
    "\n",
    "\n",
    "        ↑ (-1,0)\n",
    "        |\n",
    "(0,-1)  ← (0,0) → (0,1) → (0,2)\n",
    "        |\n",
    "        ↓ (1,0)\n",
    "\n",
    "\n",
    "```\n",
    "\n",
    "\n",
    "\n",
    "\n",
    "- direction 방향 tuple형이므로, 추가할 때 append((si,sj)), 비교할 때도 if((si,sj)==(ei,ej))\n",
    "\n",
    "\n",
    "\n",
    "- 정답처리가 칸수 count인데, 첫번째 칸 포함해서 카운트 하므로, -1 안하고 종료\n",
    "\n",
    "\n",
    "\n",
    "- 방문 표시를 +1 를 적축하며 + 1씩 `v[ni][nj] = v[ci][cj]+1` 처리\n",
    "\n",
    "\n",
    "\n",
    "- bfs 함수내에서 cnt 변수로 실제 카운터 하면, 인접 노드를 모두 방문하므로, 최단거리 계산이 안됨. 방문 한 노드의 개수 카운터 됨"
   ]
  },
  {
   "cell_type": "markdown",
   "metadata": {},
   "source": [
    "---"
   ]
  },
  {
   "cell_type": "code",
   "execution_count": 1,
   "metadata": {},
   "outputs": [],
   "source": [
    "from collections import deque\n",
    "\n",
    "def bfs(si, sj, ei, ej):\n",
    "    \n",
    "    q = deque()\n",
    "    \n",
    "    q.append((si,sj))\n",
    "    v[si][sj] = 1\n",
    "    \n",
    "    while q:\n",
    "        ci,cj = q.popleft()\n",
    "        \n",
    "        if (ci,cj) == (ei,ej):\n",
    "            return v[ei][ej]\n",
    "        \n",
    "        for di,dj in ((-1,0), (1,0), (0,-1), (0,1)):\n",
    "            \n",
    "            ni, nj = ci+di, cj+dj\n",
    "            \n",
    "            if (0 <= ni < N) and (0 <= nj < M) and (v[ni][nj]==0) and (arr[ni][nj]==1):\n",
    "                \n",
    "                q.append((ni,nj))\n",
    "                v[ni][nj] = v[ci][cj]+1"
   ]
  },
  {
   "cell_type": "code",
   "execution_count": 2,
   "metadata": {},
   "outputs": [
    {
     "name": "stdout",
     "output_type": "stream",
     "text": [
      "4 6\n",
      "101111\n",
      "101010\n",
      "101011\n",
      "111011\n",
      "15\n"
     ]
    }
   ],
   "source": [
    "N, M = map(int, input().split())\n",
    "\n",
    "arr = [list(map(int, input())) for _ in range(N)]\n",
    "\n",
    "v = [ [0] * M for _ in range(N) ] \n",
    "\n",
    "ans = bfs(0, 0, N-1, M-1)\n",
    "\n",
    "print(ans)"
   ]
  },
  {
   "cell_type": "code",
   "execution_count": 3,
   "metadata": {},
   "outputs": [
    {
     "data": {
      "text/plain": [
       "[[1, 0, 9, 10, 11, 12],\n",
       " [2, 0, 8, 0, 12, 0],\n",
       " [3, 0, 7, 0, 13, 14],\n",
       " [4, 5, 6, 0, 14, 15]]"
      ]
     },
     "execution_count": 3,
     "metadata": {},
     "output_type": "execute_result"
    }
   ],
   "source": [
    "v"
   ]
  },
  {
   "cell_type": "markdown",
   "metadata": {},
   "source": [
    "---"
   ]
  },
  {
   "cell_type": "markdown",
   "metadata": {},
   "source": [
    "### 만약 2차원 배열에서 방문 가능한 모든 노드의 개수를 카운트 해라"
   ]
  },
  {
   "cell_type": "code",
   "execution_count": 4,
   "metadata": {},
   "outputs": [
    {
     "data": {
      "text/plain": [
       "0"
      ]
     },
     "execution_count": 4,
     "metadata": {},
     "output_type": "execute_result"
    }
   ],
   "source": [
    "# 2차원에서는 .count 안됨\n",
    "v.count(0) "
   ]
  },
  {
   "cell_type": "code",
   "execution_count": 5,
   "metadata": {},
   "outputs": [
    {
     "name": "stdout",
     "output_type": "stream",
     "text": [
      "17\n"
     ]
    }
   ],
   "source": [
    "cnt = 0\n",
    "\n",
    "for i in range(N):\n",
    "    for j in range(M):\n",
    "        if v[i][j] != 0:\n",
    "            cnt+=1\n",
    "            \n",
    "print(cnt)"
   ]
  }
 ],
 "metadata": {
  "hide_input": false,
  "kernelspec": {
   "display_name": "Python 3 (ipykernel)",
   "language": "python",
   "name": "python3"
  },
  "language_info": {
   "codemirror_mode": {
    "name": "ipython",
    "version": 3
   },
   "file_extension": ".py",
   "mimetype": "text/x-python",
   "name": "python",
   "nbconvert_exporter": "python",
   "pygments_lexer": "ipython3",
   "version": "3.11.2"
  },
  "toc": {
   "base_numbering": 1,
   "nav_menu": {},
   "number_sections": true,
   "sideBar": true,
   "skip_h1_title": false,
   "title_cell": "Table of Contents",
   "title_sidebar": "Contents",
   "toc_cell": false,
   "toc_position": {},
   "toc_section_display": true,
   "toc_window_display": false
  }
 },
 "nbformat": 4,
 "nbformat_minor": 4
}
