{
 "cells": [
  {
   "cell_type": "markdown",
   "metadata": {},
   "source": [
    "# [BFS_7569](https://www.acmicpc.net/problem/7569)\n",
    "\n"
   ]
  },
  {
   "cell_type": "markdown",
   "metadata": {},
   "source": [
    "---"
   ]
  },
  {
   "cell_type": "markdown",
   "metadata": {},
   "source": [
    "\n",
    "<img src = https://upload.acmicpc.net/c3f3343d-c291-40a9-9fe3-59f792a8cae9/-/preview/>\n"
   ]
  },
  {
   "cell_type": "markdown",
   "metadata": {},
   "source": [
    "---"
   ]
  },
  {
   "cell_type": "markdown",
   "metadata": {},
   "source": [
    "## Memo\n",
    "\n",
    "\n",
    "- 초기 데이터 가 여러개, si,sj가 여러개 == 1 인 데이터 모두 \n",
    "\n",
    "- 인접 노드 레벨 처리\n",
    "\n",
    "- 3차원\n",
    "\n",
    "---\n",
    "\n",
    "\n",
    "- 모두 익는데 걸리는 날짜 리턴, 0을 모두 1로 처리 \n",
    "\n",
    "- 하나라도 0 이 있으면 안됨\n",
    "\n",
    "- 익지 않은 개수 전체 cnt 이후,\n",
    "\n",
    "- 초기 데이터들을 BFS 탐색 후\n",
    "\n",
    "- 0을 만날때 마다 -- 연산 처리\n",
    "\n",
    "- cnt가 결국 0이 되어야 함.\n",
    "\n",
    "\n",
    "\n"
   ]
  },
  {
   "cell_type": "markdown",
   "metadata": {},
   "source": [
    "---"
   ]
  },
  {
   "cell_type": "code",
   "execution_count": 1,
   "metadata": {},
   "outputs": [],
   "source": [
    "from collections import deque\n",
    "\n",
    "def bfs():\n",
    "    \n",
    "    \n",
    "    # q 생성\n",
    "    q = deque()\n",
    "\n",
    "    \n",
    "    # 전체순회하며 초기 데이터들 처리 및 안 익은 토마토 개수 카운트 \n",
    "    \n",
    "    cnt = 0\n",
    "    \n",
    "    for sh in range(H):              \n",
    "        \n",
    "        for si in range(N):\n",
    "            \n",
    "            for sj in range(M):\n",
    "                \n",
    "                if arr[sh][si][sj] == 1: # 익은 토마토\n",
    "                    q.append((sh,si,sj))\n",
    "                    v[sh][si][sj]=1\n",
    "                \n",
    "                elif arr[sh][si][sj] == 0: # 안 익은 토마토\n",
    "                    cnt += 1\n",
    "\n",
    "    \n",
    "    \n",
    "    while q:\n",
    "        \n",
    "        ch,ci,cj = q.popleft()\n",
    "\n",
    "        # 6방향, 범위내, 미방문, arr[] == 0\n",
    "        for dh,di,dj in ((0,-1,0),(0,1,0),(0,0,-1),(0,0,1),(-1,0,0),(1,0,0)):\n",
    "            \n",
    "            nh,ni,nj = ch+dh, ci+di, cj+dj\n",
    "            \n",
    "            if 0<=nh<H and 0<=ni<N and 0<=nj<M and v[nh][ni][nj]==0 and arr[nh][ni][nj]==0:\n",
    "                \n",
    "                q.append((nh,ni,nj))\n",
    "                \n",
    "                v[nh][ni][nj] = v[ch][ci][cj] + 1\n",
    "                \n",
    "                cnt -= 1    # 안익은 토마토 1개 익음\n",
    "\n",
    "    \n",
    "    \n",
    "    # 정답 처리, 시작 지점으로 부터 현재 지점, 끝 지점 까지 레벨 차이 반환\n",
    "    if cnt == 0:              \n",
    "        return v[ch][ci][cj] - 1\n",
    "    \n",
    "    else:\n",
    "        return -1\n"
   ]
  },
  {
   "cell_type": "markdown",
   "metadata": {},
   "source": [
    "---"
   ]
  },
  {
   "cell_type": "code",
   "execution_count": 2,
   "metadata": {},
   "outputs": [
    {
     "name": "stdout",
     "output_type": "stream",
     "text": [
      "5 3 2\n",
      "0 0 0 0 0\n",
      "0 0 0 0 0\n",
      "0 0 0 0 0\n",
      "0 0 0 0 0\n",
      "0 0 1 0 0\n",
      "0 0 0 0 0\n",
      "4\n"
     ]
    }
   ],
   "source": [
    "\n",
    "M, N, H = map(int, input().split())\n",
    "\n",
    "arr = [ [ list(map(int, input().split())) for _ in range(N) ] for _ in range(H) ]\n",
    "\n",
    "v = [ [ [0] * M for _ in range(N) ] for _ in range(H) ]    \n",
    "    \n",
    "ans = bfs()\n",
    "\n",
    "print(ans)"
   ]
  },
  {
   "cell_type": "code",
   "execution_count": 3,
   "metadata": {},
   "outputs": [
    {
     "data": {
      "text/plain": [
       "[[[5, 4, 3, 4, 5], [4, 3, 2, 3, 4], [5, 4, 3, 4, 5]],\n",
       " [[4, 3, 2, 3, 4], [3, 2, 1, 2, 3], [4, 3, 2, 3, 4]]]"
      ]
     },
     "execution_count": 3,
     "metadata": {},
     "output_type": "execute_result"
    }
   ],
   "source": [
    "v"
   ]
  }
 ],
 "metadata": {
  "hide_input": false,
  "kernelspec": {
   "display_name": "Python 3 (ipykernel)",
   "language": "python",
   "name": "python3"
  },
  "language_info": {
   "codemirror_mode": {
    "name": "ipython",
    "version": 3
   },
   "file_extension": ".py",
   "mimetype": "text/x-python",
   "name": "python",
   "nbconvert_exporter": "python",
   "pygments_lexer": "ipython3",
   "version": "3.8.16"
  },
  "toc": {
   "base_numbering": 1,
   "nav_menu": {},
   "number_sections": true,
   "sideBar": true,
   "skip_h1_title": false,
   "title_cell": "Table of Contents",
   "title_sidebar": "Contents",
   "toc_cell": false,
   "toc_position": {},
   "toc_section_display": true,
   "toc_window_display": false
  },
  "varInspector": {
   "cols": {
    "lenName": 16,
    "lenType": 16,
    "lenVar": 40
   },
   "kernels_config": {
    "python": {
     "delete_cmd_postfix": "",
     "delete_cmd_prefix": "del ",
     "library": "var_list.py",
     "varRefreshCmd": "print(var_dic_list())"
    },
    "r": {
     "delete_cmd_postfix": ") ",
     "delete_cmd_prefix": "rm(",
     "library": "var_list.r",
     "varRefreshCmd": "cat(var_dic_list()) "
    }
   },
   "types_to_exclude": [
    "module",
    "function",
    "builtin_function_or_method",
    "instance",
    "_Feature"
   ],
   "window_display": false
  }
 },
 "nbformat": 4,
 "nbformat_minor": 4
}
