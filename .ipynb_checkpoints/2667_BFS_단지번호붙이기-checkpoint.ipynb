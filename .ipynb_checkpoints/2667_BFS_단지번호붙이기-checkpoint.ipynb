{
 "cells": [
  {
   "cell_type": "markdown",
   "metadata": {},
   "source": [
    "# [BFS_2667](https://www.acmicpc.net/problem/2667)\n",
    "\n",
    "- 방문 개수 처리\n",
    "\n",
    "- 방문 표시를 처리해서, 중복해서 처리하지 않도록 함\n",
    "\n",
    "    - 조건이, 4방향, 범위내, 1을 만나면, 근데 방문표시 x\n",
    "\n",
    "- 문제 조건에 맞을때, 그점을 시작점으로 bfs 수행"
   ]
  },
  {
   "cell_type": "markdown",
   "metadata": {},
   "source": [
    "---"
   ]
  },
  {
   "cell_type": "markdown",
   "metadata": {},
   "source": [
    "## 문제\n",
    "\n",
    "<그림 1>과 같이 정사각형 모양의 지도가 있다. \n",
    "\n",
    "1은 집이 있는 곳을, 0은 집이 없는 곳을 나타낸다. \n",
    "\n",
    "철수는 이 지도를 가지고 연결된 집의 모임인 단지를 정의하고, 단지에 번호를 붙이려 한다. \n",
    "\n",
    "여기서 연결되었다는 것은 어떤 집이 좌우, 혹은 아래위로 다른 집이 있는 경우를 말한다. \n",
    "\n",
    "대각선상에 집이 있는 경우는 연결된 것이 아니다. \n",
    "\n",
    "<그림 2>는 <그림 1>을 단지별로 번호를 붙인 것이다. \n",
    "\n",
    "- 지도를 입력하여 단지수를 출력하고, 각 단지에 속하는 집의 수를 오름차순으로 정렬하여 출력하는 프로그램을 작성하시오.\n",
    "\n",
    "<img src = https://www.acmicpc.net/upload/images/ITVH9w1Gf6eCRdThfkegBUSOKd.png>\n"
   ]
  },
  {
   "cell_type": "markdown",
   "metadata": {},
   "source": [
    "---"
   ]
  },
  {
   "cell_type": "markdown",
   "metadata": {},
   "source": [
    "## Memo\n",
    "\n",
    "- 2차원 배열 arr\n",
    "\n",
    "- 시작 지점 처리 : si,sj\n",
    "\n",
    "- 방문 처리 조건 : 4방향, 범위내, 미방문, arr value 1, \n",
    "\n",
    "- 정답 처리 1-1) 집 개수, 시작 지점으로 부터 도착 지점 까지의 거리, 칸 수 -> 방문 표시 arr 에 정답 처리\n",
    "- 정답 처리 1-2) 단지 개수, 방문 을 시작 하면, cnt += 1, \n",
    "    - 단지 개수는 집 수 ans 리스트의 개수로 처리도 가능\n",
    "\n",
    "- 조건 확인을 위해, 방문 처리 리스트 v 를 메인 전역 변수로 처리\n",
    "\n",
    "-  i 고정, j 이동, 열 고정 후, 옆(행)으로 이동하면서 순회\n",
    "\n",
    "```.py\n",
    "\n",
    "ans = 0 \n",
    "\n",
    "for si in range(0, N):\n",
    "    for sj in range(0, N):\n",
    "        if ( arr[si][sj] == 1 and v[si][sj] == 0 ):  \n",
    "            lst.append(bfs(si,sj)) # 2-1) 집 개수  return\n",
    "            ans += 1               # 2-2) 단지 개수 처리  \n",
    "```"
   ]
  },
  {
   "cell_type": "markdown",
   "metadata": {},
   "source": [
    "---"
   ]
  },
  {
   "cell_type": "markdown",
   "metadata": {},
   "source": [
    "## 단순 cnt 처리\n",
    "\n",
    "- ans = 0 부터 시작해서, 노드 popleft() 할때 마다 ans += 1 처리 후 리턴\n"
   ]
  },
  {
   "cell_type": "code",
   "execution_count": 1,
   "metadata": {},
   "outputs": [],
   "source": [
    "# BFS 탐색하면서 카운트만 샘, 단순 카운트 처리\n",
    "\n",
    "from collections import deque\n",
    "\n",
    "def bfs(si,sj):\n",
    "    \n",
    "    q = deque()\n",
    "    \n",
    "    q.append((si,sj))\n",
    "    v[si][sj] = 1\n",
    "    \n",
    "    ans = 0\n",
    "    \n",
    "    while q:\n",
    "        \n",
    "        ci,cj = q.popleft()\n",
    "        \n",
    "        # 정답 처리 \n",
    "        ans += 1\n",
    "        \n",
    "        for di,dj in ((-1,0),(1,0),(0,-1),(0,1)):\n",
    "            \n",
    "            ni,nj = ci+di, cj+dj\n",
    "            \n",
    "            if (0<=ni<N) and (0<=nj<N) and (v[ni][nj]==0) and (arr[ni][nj] == 1):\n",
    "                \n",
    "                q.append((ni,nj))\n",
    "                v[ni][nj] = 1\n",
    "                     \n",
    "    return ans "
   ]
  },
  {
   "cell_type": "code",
   "execution_count": 2,
   "metadata": {},
   "outputs": [
    {
     "name": "stdout",
     "output_type": "stream",
     "text": [
      "7\n",
      "0110100\n",
      "0110101\n",
      "1110101\n",
      "0000111\n",
      "0100000\n",
      "0111110\n",
      "0111000\n",
      "3\n",
      "7\n",
      "8\n",
      "9\n"
     ]
    }
   ],
   "source": [
    "# 1-1) 입력\n",
    "N = int(input())\n",
    "arr = [ list(map(int, input())) for _ in range(N) ]\n",
    "\n",
    "# 1-2) 정답 처리를 위한 arr 생성\n",
    "v = [ [0] * N for _ in range(N) ] \n",
    "\n",
    "lst = []\n",
    "\n",
    "\n",
    "# 정답 처리 2-2) 단지 개수 cnt\n",
    "ans = 0\n",
    "\n",
    "# 전체 탐색\n",
    "for si in range(0, N):\n",
    "\n",
    "    for sj in range(0, N):\n",
    "        \n",
    "        if ( arr[si][sj] == 1 and v[si][sj] == 0 ):\n",
    "             \n",
    "            lst.append(bfs(si,sj)) # 정답 처리 2-1) 집 개수  return\n",
    "            ans += 1               \n",
    "\n",
    "            \n",
    "lst.sort()\n",
    "\n",
    "print(len(lst), *lst, sep='\\n')"
   ]
  },
  {
   "cell_type": "code",
   "execution_count": 3,
   "metadata": {},
   "outputs": [
    {
     "data": {
      "text/plain": [
       "[[0, 1, 1, 0, 1, 0, 0],\n",
       " [0, 1, 1, 0, 1, 0, 1],\n",
       " [1, 1, 1, 0, 1, 0, 1],\n",
       " [0, 0, 0, 0, 1, 1, 1],\n",
       " [0, 1, 0, 0, 0, 0, 0],\n",
       " [0, 1, 1, 1, 1, 1, 0],\n",
       " [0, 1, 1, 1, 0, 0, 0]]"
      ]
     },
     "execution_count": 3,
     "metadata": {},
     "output_type": "execute_result"
    }
   ],
   "source": [
    "v"
   ]
  },
  {
   "cell_type": "markdown",
   "metadata": {},
   "source": [
    "---"
   ]
  },
  {
   "cell_type": "markdown",
   "metadata": {},
   "source": [
    "## 방문 cnt 처리\n",
    "\n",
    "- 방문 레벨 차이랑 다름\n",
    "\n",
    "- cnt = 1, v = cnt 처리\n",
    "\n",
    "- 방문 할때 마다 cnt+=1 하면서, v= cnt 처리하면서, 방문 표시 리스트에 = 1이 아니라, = cnt 개수 대입 처리\n"
   ]
  },
  {
   "cell_type": "markdown",
   "metadata": {},
   "source": [
    "---"
   ]
  },
  {
   "cell_type": "code",
   "execution_count": 4,
   "metadata": {},
   "outputs": [],
   "source": [
    "from collections import deque\n",
    "\n",
    "def bfs(si,sj):\n",
    "    \n",
    "    q = deque()\n",
    "    q.append((si,sj))\n",
    "    \n",
    "    cnt = 1\n",
    "    v[si][sj] = cnt\n",
    "    \n",
    "    while q:\n",
    "        \n",
    "        ci,cj = q.popleft()\n",
    "        \n",
    "        \n",
    "        for di,dj in ((-1,0),(1,0),(0,-1),(0,1)):\n",
    "            \n",
    "            ni,nj = ci+di, cj+dj\n",
    "            \n",
    "            if (0<=ni<N) and (0<=nj<N) and (v[ni][nj]==0) and (arr[ni][nj] == 1):\n",
    "            \n",
    "                q.append((ni,nj))\n",
    "\n",
    "                cnt += 1\n",
    "                v[ni][nj] = cnt\n",
    "                \n",
    "    \n",
    "    return v[ci][cj] # last v[ci][cj]"
   ]
  },
  {
   "cell_type": "code",
   "execution_count": 5,
   "metadata": {},
   "outputs": [
    {
     "name": "stdout",
     "output_type": "stream",
     "text": [
      "7\n",
      "0110100\n",
      "0110101\n",
      "1110101\n",
      "0000111\n",
      "0100000\n",
      "0111110\n",
      "0111000\n",
      "3\n",
      "7\n",
      "8\n",
      "9\n"
     ]
    }
   ],
   "source": [
    "N = int(input())\n",
    "arr = [ list(map(int, input())) for _ in range(N) ]\n",
    "\n",
    "v = [ [0] * N for _ in range(N) ] \n",
    "lst = []\n",
    "\n",
    "\n",
    "# 2-1) 단지 개수\n",
    "count = 0\n",
    "\n",
    "# 전체 탐색\n",
    "for si in range(0, N):\n",
    "    \n",
    "    for sj in range(0, N):\n",
    "        \n",
    "        if ( v[si][sj]==0 and arr[si][sj] == 1 ):\n",
    "            \n",
    "            lst.append(bfs(si,sj)) # 2-2) 집 개수\n",
    "            count += 1             \n",
    "\n",
    "lst.sort()\n",
    "\n",
    "print(len(lst), *lst, sep='\\n')"
   ]
  },
  {
   "cell_type": "code",
   "execution_count": null,
   "metadata": {},
   "outputs": [],
   "source": [
    "v"
   ]
  },
  {
   "cell_type": "markdown",
   "metadata": {},
   "source": [
    "<img src = \"2667.png\" width = 500 height = 500 >"
   ]
  }
 ],
 "metadata": {
  "hide_input": false,
  "kernelspec": {
   "display_name": "Python 3 (ipykernel)",
   "language": "python",
   "name": "python3"
  },
  "language_info": {
   "codemirror_mode": {
    "name": "ipython",
    "version": 3
   },
   "file_extension": ".py",
   "mimetype": "text/x-python",
   "name": "python",
   "nbconvert_exporter": "python",
   "pygments_lexer": "ipython3",
   "version": "3.8.16"
  },
  "toc": {
   "base_numbering": 1,
   "nav_menu": {},
   "number_sections": true,
   "sideBar": true,
   "skip_h1_title": false,
   "title_cell": "Table of Contents",
   "title_sidebar": "Contents",
   "toc_cell": false,
   "toc_position": {},
   "toc_section_display": true,
   "toc_window_display": false
  },
  "varInspector": {
   "cols": {
    "lenName": 16,
    "lenType": 16,
    "lenVar": 40
   },
   "kernels_config": {
    "python": {
     "delete_cmd_postfix": "",
     "delete_cmd_prefix": "del ",
     "library": "var_list.py",
     "varRefreshCmd": "print(var_dic_list())"
    },
    "r": {
     "delete_cmd_postfix": ") ",
     "delete_cmd_prefix": "rm(",
     "library": "var_list.r",
     "varRefreshCmd": "cat(var_dic_list()) "
    }
   },
   "types_to_exclude": [
    "module",
    "function",
    "builtin_function_or_method",
    "instance",
    "_Feature"
   ],
   "window_display": false
  }
 },
 "nbformat": 4,
 "nbformat_minor": 4
}
