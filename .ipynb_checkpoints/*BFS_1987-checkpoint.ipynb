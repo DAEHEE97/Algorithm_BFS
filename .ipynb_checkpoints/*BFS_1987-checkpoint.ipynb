{
 "cells": [
  {
   "cell_type": "markdown",
   "metadata": {},
   "source": [
    "# BFS_1987\n",
    "\n",
    "-[알파벳](https://www.acmicpc.net/problem/1987)"
   ]
  },
  {
   "cell_type": "markdown",
   "metadata": {},
   "source": [
    "---"
   ]
  },
  {
   "cell_type": "markdown",
   "metadata": {},
   "source": [
    "기존 문제들 간선들끼리 연결,조건 충족시 모두 방문 \n",
    "\n",
    "1987은 연결,조건 충족시 방문하지만, 1라인 방문하고 끝"
   ]
  },
  {
   "cell_type": "markdown",
   "metadata": {},
   "source": [
    "## 문제\n",
    "\n",
    "세로 R칸, 가로 C칸으로 된 표 모양의 보드가 있다. 보드의 각 칸에는 대문자 알파벳이 하나씩 적혀 있고, 좌측 상단 칸 (1행 1열) 에는 말이 놓여 있다.\n",
    "\n",
    "말은 상하좌우로 인접한 네 칸 중의 한 칸으로 이동할 수 있는데, 새로 이동한 칸에 적혀 있는 알파벳은 지금까지 지나온 모든 칸에 적혀 있는 알파벳과는 달라야 한다. 즉, 같은 알파벳이 적힌 칸을 두 번 지날 수 없다.\n",
    "\n",
    "좌측 상단에서 시작해서, 말이 최대한 몇 칸을 지날 수 있는지를 구하는 프로그램을 작성하시오. 말이 지나는 칸은 좌측 상단의 칸도 포함된다.\n",
    "\n",
    "## 입력\n",
    "\n",
    "첫째 줄에 R과 C가 빈칸을 사이에 두고 주어진다. (1 ≤ R,C ≤ 20) 둘째 줄부터 R개의 줄에 걸쳐서 보드에 적혀 있는 C개의 대문자 알파벳들이 빈칸 없이 주어진다.\n",
    "\n",
    "## 출력\n",
    "\n",
    "첫째 줄에 말이 지날 수 있는 최대의 칸 수를 출력한다."
   ]
  },
  {
   "cell_type": "markdown",
   "metadata": {},
   "source": [
    "---"
   ]
  },
  {
   "cell_type": "markdown",
   "metadata": {},
   "source": [
    "<img src = \"1987.png\" width = \"500\" height = \"500\" >"
   ]
  },
  {
   "cell_type": "markdown",
   "metadata": {},
   "source": [
    "---"
   ]
  },
  {
   "cell_type": "code",
   "execution_count": null,
   "metadata": {},
   "outputs": [],
   "source": [
    "# 2. BFS 풀이\n",
    "from collections import deque\n",
    "\n",
    "def bfs():\n",
    "\n",
    "    q = deque()\n",
    "    \n",
    "    v = [[set() for _ in range(C)] for _ in range(R)] # set는 O(1)\n",
    "    \n",
    "    ans = 1\n",
    "\n",
    "    # q에 초기데이터(들) 삽입\n",
    "    q.append((0,0,arr[0][0]))\n",
    "    v[0][0].add(arr[0][0])\n",
    "\n",
    "    \n",
    "    while q:\n",
    "        \n",
    "        ci,cj,cv = q.popleft()\n",
    "        \n",
    "        ans = max(ans, len(cv))\n",
    "        \n",
    "        # 4방향, 범위내, 중복값이 아닌경우, 중복시퀀스 아닌경우\n",
    "        \n",
    "        for di,dj in ((-1,0),(1,0),(0,-1),(0,1)):\n",
    "            ni,nj = ci+di, cj+dj\n",
    "            \n",
    "            if 0<=ni<R and 0<=nj<C and arr[ni][nj] not in cv:\n",
    "                if cv+arr[ni][nj] not in v[ni][nj]:\n",
    "                    q.append((ni,nj,cv+arr[ni][nj]))\n",
    "                    v[ni][nj].add((cv+arr[ni][nj]))\n",
    "    return ans\n",
    "\n",
    "\n",
    "R, C = map(int, input().split())\n",
    "arr = list(input() for _ in range(R))\n",
    "\n",
    "ans = bfs()\n",
    "print(ans)"
   ]
  },
  {
   "cell_type": "markdown",
   "metadata": {},
   "source": [
    "---"
   ]
  },
  {
   "cell_type": "code",
   "execution_count": 17,
   "metadata": {},
   "outputs": [],
   "source": [
    "from collections import deque\n",
    "\n",
    "def bfs(si,sj):\n",
    "\n",
    "    q = deque()\n",
    "\n",
    "    q.append((si,sj))\n",
    "    v[si][sj] = 1\n",
    "    \n",
    "    lst.append(arr[si][sj]) # 알파벳 삽입\n",
    "\n",
    "    global cnt\n",
    "    cnt += 1 \n",
    "    \n",
    "    while q:\n",
    "        \n",
    "        ci,cj = q.popleft()\n",
    "        \n",
    "        \n",
    "        for di,dj in ((-1,0),(1,0),(0,-1),(0,1)):\n",
    "            ni,nj = ci+di, cj+dj\n",
    "            \n",
    "            if (0<=ni<R) and (0<=nj<C) and (v[ni][nj] == 0) and (arr[ni][nj] not in lst):\n",
    "                \n",
    "                q.append((ni,nj))\n",
    "                v[ni][nj] = 1\n",
    "                \n",
    "                lst.append(arr[ni][nj]) # 알파벳 삽입\n",
    "\n",
    "                cnt+=1\n",
    "        "
   ]
  },
  {
   "cell_type": "code",
   "execution_count": 2,
   "metadata": {},
   "outputs": [
    {
     "name": "stdout",
     "output_type": "stream",
     "text": [
      "3 6\n",
      "HFDFFB\n",
      "AJHGDH\n",
      "DGAGEH\n"
     ]
    }
   ],
   "source": [
    "\n",
    "\n",
    "\n",
    "R,C = map(int,input().split())\n",
    "\n",
    "arr = [ list(input()) for _ in range(R) ]\n"
   ]
  },
  {
   "cell_type": "code",
   "execution_count": 18,
   "metadata": {},
   "outputs": [
    {
     "data": {
      "text/plain": [
       "[['H', 'F', 'D', 'F', 'F', 'B'],\n",
       " ['A', 'J', 'H', 'G', 'D', 'H'],\n",
       " ['D', 'G', 'A', 'G', 'E', 'H']]"
      ]
     },
     "execution_count": 18,
     "metadata": {},
     "output_type": "execute_result"
    }
   ],
   "source": [
    "arr"
   ]
  },
  {
   "cell_type": "code",
   "execution_count": 19,
   "metadata": {},
   "outputs": [],
   "source": [
    "v = [ [0]*C for _ in range(R)]\n"
   ]
  },
  {
   "cell_type": "code",
   "execution_count": 20,
   "metadata": {},
   "outputs": [
    {
     "data": {
      "text/plain": [
       "[[0, 0, 0, 0, 0, 0], [0, 0, 0, 0, 0, 0], [0, 0, 0, 0, 0, 0]]"
      ]
     },
     "execution_count": 20,
     "metadata": {},
     "output_type": "execute_result"
    }
   ],
   "source": [
    "v"
   ]
  },
  {
   "cell_type": "code",
   "execution_count": 21,
   "metadata": {},
   "outputs": [],
   "source": [
    "lst = []\n",
    "\n",
    "cnt = 0"
   ]
  },
  {
   "cell_type": "code",
   "execution_count": 22,
   "metadata": {},
   "outputs": [
    {
     "data": {
      "text/plain": [
       "6"
      ]
     },
     "execution_count": 22,
     "metadata": {},
     "output_type": "execute_result"
    }
   ],
   "source": [
    "\n",
    "bfs(0,0)\n",
    "\n",
    "cnt"
   ]
  },
  {
   "cell_type": "code",
   "execution_count": 23,
   "metadata": {},
   "outputs": [
    {
     "data": {
      "text/plain": [
       "[[1, 1, 0, 0, 0, 0], [1, 1, 0, 0, 0, 0], [1, 1, 0, 0, 0, 0]]"
      ]
     },
     "execution_count": 23,
     "metadata": {},
     "output_type": "execute_result"
    }
   ],
   "source": [
    "v"
   ]
  },
  {
   "cell_type": "code",
   "execution_count": 24,
   "metadata": {},
   "outputs": [
    {
     "data": {
      "text/plain": [
       "['H', 'A', 'F', 'D', 'J', 'G']"
      ]
     },
     "execution_count": 24,
     "metadata": {},
     "output_type": "execute_result"
    }
   ],
   "source": [
    "lst"
   ]
  }
 ],
 "metadata": {
  "hide_input": false,
  "kernelspec": {
   "display_name": "Python 3 (ipykernel)",
   "language": "python",
   "name": "python3"
  },
  "language_info": {
   "codemirror_mode": {
    "name": "ipython",
    "version": 3
   },
   "file_extension": ".py",
   "mimetype": "text/x-python",
   "name": "python",
   "nbconvert_exporter": "python",
   "pygments_lexer": "ipython3",
   "version": "3.11.2"
  },
  "toc": {
   "base_numbering": 1,
   "nav_menu": {},
   "number_sections": true,
   "sideBar": true,
   "skip_h1_title": false,
   "title_cell": "Table of Contents",
   "title_sidebar": "Contents",
   "toc_cell": false,
   "toc_position": {},
   "toc_section_display": true,
   "toc_window_display": false
  }
 },
 "nbformat": 4,
 "nbformat_minor": 4
}
