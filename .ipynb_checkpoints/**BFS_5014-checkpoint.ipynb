{
 "cells": [
  {
   "cell_type": "markdown",
   "metadata": {},
   "source": [
    "# BFS_5014\n",
    "\n",
    "- [스타트링크](https://www.acmicpc.net/problem/5014)\n",
    "\n",
    "\n"
   ]
  },
  {
   "cell_type": "markdown",
   "metadata": {},
   "source": [
    "---"
   ]
  },
  {
   "cell_type": "markdown",
   "metadata": {},
   "source": [
    "## 문제\n",
    "\n",
    "강호는 코딩 교육을 하는 스타트업 스타트링크에 지원했다. \n",
    "\n",
    "오늘은 강호의 면접날이다. 하지만, 늦잠을 잔 강호는 스타트링크가 있는 건물에 늦게 도착하고 말았다.\n",
    "\n",
    "스타트링크는 총 F층으로 이루어진 고층 건물에 사무실이 있고, 스타트링크가 있는 곳의 위치는 G층이다. \n",
    "\n",
    "강호가 지금 있는 곳은 S층이고, 이제 엘리베이터를 타고 G층으로 이동하려고 한다.\n",
    "\n",
    "보통 엘리베이터에는 어떤 층으로 이동할 수 있는 버튼이 있지만, 강호가 탄 엘리베이터는 버튼이 2개밖에 없다. \n",
    "\n",
    "U버튼은 위로 U층을 가는 버튼, D버튼은 아래로 D층을 가는 버튼이다. \n",
    "\n",
    "(만약, U층 위, 또는 D층 아래에 해당하는 층이 없을 때는, 엘리베이터는 움직이지 않는다)\n",
    "\n",
    "강호가 G층에 도착하려면, 버튼을 적어도 몇 번 눌러야 하는지 구하는 프로그램을 작성하시오. \n",
    "\n",
    "만약, 엘리베이터를 이용해서 G층에 갈 수 없다면, \"use the stairs\"를 출력한다.\n",
    "\n",
    "## 입력\n",
    "\n",
    "첫째 줄에 F, S, G, U, D가 주어진다. (1 ≤ S, G ≤ F ≤ 1000000, 0 ≤ U, D ≤ 1000000) 건물은 1층부터 시작하고, 가장 높은 층은 F층이다.\n",
    "\n",
    "## 출력\n",
    "\n",
    "첫째 줄에 강호가 S층에서 G층으로 가기 위해 눌러야 하는 버튼의 수의 최솟값을 출력한다. 만약, 엘리베이터로 이동할 수 없을 때는 \"use the stairs\"를 출력한다.\n"
   ]
  },
  {
   "cell_type": "markdown",
   "metadata": {},
   "source": [
    "---"
   ]
  },
  {
   "cell_type": "markdown",
   "metadata": {},
   "source": [
    "<img src=\"5014.png\" width = \"500\" height = \"500\" >"
   ]
  },
  {
   "cell_type": "markdown",
   "metadata": {},
   "source": [
    "---"
   ]
  },
  {
   "cell_type": "code",
   "execution_count": null,
   "metadata": {},
   "outputs": [],
   "source": [
    "from collections import deque\n",
    "\n",
    "def bfs(s, e):\n",
    "    \n",
    "    q = deque()\n",
    "    v = [0]*(F+1)\n",
    "\n",
    "    q.append(s)\n",
    "    v[s] = 1 \n",
    "\n",
    "    while q:\n",
    "        \n",
    "        c = q.popleft()\n",
    "        \n",
    "        # return 할 때는 -1 하고 리턴\n",
    "        if c==e:\n",
    "            return v[c]-1\n",
    "\n",
    "        # 2방향, 범위내, 미방문\n",
    "        for n in (c+U, c-D):\n",
    "            \n",
    "            if 1<=n<=F and v[n]==0:\n",
    "                q.append(n)\n",
    "                v[n] = v[c]+1\n",
    "\n",
    "    # 목적지를 찾을 수 없는 경우\n",
    "    return 'use the stairs'\n",
    "\n",
    "F, S, G, U, D = map(int, input().split())\n",
    "\n",
    "ans = bfs(S, G)\n",
    "print(ans)"
   ]
  }
 ],
 "metadata": {
  "hide_input": false,
  "kernelspec": {
   "display_name": "Python 3 (ipykernel)",
   "language": "python",
   "name": "python3"
  },
  "language_info": {
   "codemirror_mode": {
    "name": "ipython",
    "version": 3
   },
   "file_extension": ".py",
   "mimetype": "text/x-python",
   "name": "python",
   "nbconvert_exporter": "python",
   "pygments_lexer": "ipython3",
   "version": "3.11.2"
  },
  "toc": {
   "base_numbering": 1,
   "nav_menu": {},
   "number_sections": true,
   "sideBar": true,
   "skip_h1_title": false,
   "title_cell": "Table of Contents",
   "title_sidebar": "Contents",
   "toc_cell": false,
   "toc_position": {},
   "toc_section_display": true,
   "toc_window_display": false
  }
 },
 "nbformat": 4,
 "nbformat_minor": 4
}
