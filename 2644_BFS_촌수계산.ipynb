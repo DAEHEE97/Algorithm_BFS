{
 "cells": [
  {
   "cell_type": "markdown",
   "metadata": {},
   "source": [
    "# [BFS_2644](https://www.acmicpc.net/problem/2644)\n",
    "\n",
    "- 방문 레벨 표시\n",
    "\n",
    "- 차이 return\n"
   ]
  },
  {
   "cell_type": "markdown",
   "metadata": {},
   "source": [
    "---"
   ]
  },
  {
   "cell_type": "markdown",
   "metadata": {},
   "source": [
    "## 문제\n",
    "\n",
    "우리 나라는 가족 혹은 친척들 사이의 관계를 촌수라는 단위로 표현하는 독특한 문화를 가지고 있다. \n",
    "\n",
    "이러한 촌수는 다음과 같은 방식으로 계산된다. 기본적으로 부모와 자식 사이를 1촌으로 정의하고 이로부터 사람들 간의 촌수를 계산한다. \n",
    "\n",
    "예를 들면 나와 아버지, 아버지와 할아버지는 각각 1촌으로 나와 할아버지는 2촌이 되고, 아버지 형제들과 할아버지는 1촌, 나와 아버지 형제들과는 3촌이 된다.\n",
    "\n",
    "여러 사람들에 대한 부모 자식들 간의 관계가 주어졌을 때, 주어진 두 사람의 촌수를 계산하는 프로그램을 작성하시오.\n",
    "\n",
    "## 입력\n",
    "\n",
    "사람들은 1, 2, 3, …, n (1 ≤ n ≤ 100)의 연속된 번호로 각각 표시된다. \n",
    "\n",
    "입력 파일의 첫째 줄에는 전체 사람의 수 n이 주어지고, 둘째 줄에는 촌수를 계산해야 하는 서로 다른 두 사람의 번호가 주어진다. 그리고 셋째 줄에는 부모 자식들 간의 관계의 개수 m이 주어진다. \n",
    "\n",
    "넷째 줄부터는 부모 자식간의 관계를 나타내는 두 번호 x,y가 각 줄에 나온다. 이때 앞에 나오는 번호 x는 뒤에 나오는 정수 y의 부모 번호를 나타낸다.\n",
    "\n",
    "각 사람의 부모는 최대 한 명만 주어진다.\n",
    "\n",
    "## 출력\n",
    "\n",
    "입력에서 요구한 두 사람의 촌수를 나타내는 정수를 출력한다. \n",
    "\n",
    "어떤 경우에는 두 사람의 친척 관계가 전혀 없어 촌수를 계산할 수 없을 때가 있다. 이때에는 -1을 출력해야 한다."
   ]
  },
  {
   "cell_type": "markdown",
   "metadata": {},
   "source": [
    "---"
   ]
  },
  {
   "cell_type": "markdown",
   "metadata": {},
   "source": [
    "## MEMO\n",
    "\n",
    "- 시작지점, 도착지점, v[n] = v[c] + 1, v 방문 표시 리스트 자체가, 시작 지점으로 부터의 레벨 차이\n",
    "- 한칸씩 : BFS\n",
    "\n",
    "- 양방향 \n",
    "\n",
    "- 도달 불가 -1"
   ]
  },
  {
   "cell_type": "code",
   "execution_count": null,
   "metadata": {},
   "outputs": [],
   "source": [
    "# 촌수 차이, 레벨 차이\n",
    "# 방문 표시 레벨 표시 하면서, 만나면, 레벨 차이 \n",
    "\n",
    "from collections import deque\n",
    "\n",
    "\n",
    "def bfs(s, e):\n",
    "    \n",
    "    q = deque()\n",
    "    v = [0] * (N+1)\n",
    "    \n",
    "    q.append(s)\n",
    "    v[s] = 1\n",
    "    \n",
    "    while q:\n",
    "        \n",
    "        c = q.popleft()\n",
    "\n",
    "        if c == e:\n",
    "            return v[e] - v[s] # s는 parameter로 저장되어 있음\n",
    "        \n",
    "        \n",
    "        for n in adj[c]:\n",
    "            \n",
    "            if v[n] == 0:\n",
    "                \n",
    "                q.append(n)\n",
    "                v[n] = v[c] + 1\n",
    "    \n",
    "    \n",
    "    return -1\n",
    "            "
   ]
  },
  {
   "cell_type": "code",
   "execution_count": null,
   "metadata": {},
   "outputs": [],
   "source": [
    "\n",
    "N = int(input()) # 전체 사람 수\n",
    "\n",
    "S, E = map(int, input().split()) # 찾을 사람\n",
    "\n",
    "M = int(input()) # 간선의 개수\n",
    "\n",
    "adj = [ [] for _ in range(N+1) ] # 인접 리스트 \n",
    "\n",
    "for _ in range(M):\n",
    "    \n",
    "    p, c = map(int, input().split())\n",
    "    \n",
    "    adj[p].append(c)\n",
    "    adj[c].append(p)"
   ]
  },
  {
   "cell_type": "code",
   "execution_count": null,
   "metadata": {},
   "outputs": [],
   "source": [
    "ans = bfs(S, E)\n",
    "\n",
    "print(ans)"
   ]
  },
  {
   "cell_type": "markdown",
   "metadata": {},
   "source": [
    "---"
   ]
  },
  {
   "cell_type": "code",
   "execution_count": null,
   "metadata": {},
   "outputs": [],
   "source": [
    "from collections import deque\n",
    "\n",
    "def bfs(s, e):\n",
    "    \n",
    "    q = deque()\n",
    "    v = [0] * (N+1)\n",
    "\n",
    "    q.append(s)\n",
    "    v[s] = 1\n",
    "\n",
    "    while q:\n",
    "        c = q.popleft()\n",
    "        \n",
    "        if c == e:          # 목적지 찾음\n",
    "            return v[e] - 1   # 시작 지점으로 부터 엔드 지점 까지 칸 수, 시작을 1로 했으니까\n",
    "\n",
    "        # c와 연결된 번호인 경우 미방문이면 방문!\n",
    "        for n in adj[c]:\n",
    "            if not v[n]:\n",
    "                q.append(n)\n",
    "                v[n] = v[c]+1\n",
    "\n",
    "    # 도달 불가 -1 \n",
    "    return -1\n"
   ]
  }
 ],
 "metadata": {
  "hide_input": false,
  "kernelspec": {
   "display_name": "Python 3 (ipykernel)",
   "language": "python",
   "name": "python3"
  },
  "language_info": {
   "codemirror_mode": {
    "name": "ipython",
    "version": 3
   },
   "file_extension": ".py",
   "mimetype": "text/x-python",
   "name": "python",
   "nbconvert_exporter": "python",
   "pygments_lexer": "ipython3",
   "version": "3.8.16"
  },
  "toc": {
   "base_numbering": 1,
   "nav_menu": {},
   "number_sections": true,
   "sideBar": true,
   "skip_h1_title": false,
   "title_cell": "Table of Contents",
   "title_sidebar": "Contents",
   "toc_cell": false,
   "toc_position": {},
   "toc_section_display": true,
   "toc_window_display": false
  },
  "varInspector": {
   "cols": {
    "lenName": 16,
    "lenType": 16,
    "lenVar": 40
   },
   "kernels_config": {
    "python": {
     "delete_cmd_postfix": "",
     "delete_cmd_prefix": "del ",
     "library": "var_list.py",
     "varRefreshCmd": "print(var_dic_list())"
    },
    "r": {
     "delete_cmd_postfix": ") ",
     "delete_cmd_prefix": "rm(",
     "library": "var_list.r",
     "varRefreshCmd": "cat(var_dic_list()) "
    }
   },
   "types_to_exclude": [
    "module",
    "function",
    "builtin_function_or_method",
    "instance",
    "_Feature"
   ],
   "window_display": false
  }
 },
 "nbformat": 4,
 "nbformat_minor": 4
}
