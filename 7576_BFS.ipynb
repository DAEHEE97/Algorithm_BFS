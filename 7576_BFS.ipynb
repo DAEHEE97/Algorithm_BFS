{
 "cells": [
  {
   "cell_type": "markdown",
   "id": "d9d151fe",
   "metadata": {},
   "source": [
    "# [7576_BFS](https://www.acmicpc.net/problem/7576)"
   ]
  },
  {
   "cell_type": "markdown",
   "id": "6e0e3a0f",
   "metadata": {},
   "source": [
    "---"
   ]
  },
  {
   "cell_type": "markdown",
   "id": "a028dd86",
   "metadata": {},
   "source": [
    "<img src = https://upload.acmicpc.net/de29c64f-dee7-4fe0-afa9-afd6fc4aad3a/-/preview/ >"
   ]
  },
  {
   "cell_type": "markdown",
   "id": "e9dd8288",
   "metadata": {},
   "source": [
    "---"
   ]
  },
  {
   "cell_type": "markdown",
   "id": "09786219",
   "metadata": {},
   "source": [
    "## Memo\n",
    "\n",
    "- 초기 데이터 가 여러개, si,sj가 여러개 == 1 인 데이터 모두 \n",
    "\n",
    "- 인접 노드 레벨 처리\n",
    "\n",
    "---\n",
    "\n",
    "\n",
    "- 모두 익는데 걸리는 날짜 리턴, 0을 모두 1로 처리 \n",
    "\n",
    "- 하나라도 0 이 있으면 안됨\n",
    "\n",
    "- 익지 않은 개수 전체 cnt 이후,\n",
    "\n",
    "- 초기 데이터들을 BFS 탐색 후\n",
    "\n",
    "- 0을 만날때 마다 -- 연산 처리\n",
    "\n",
    "- cnt가 결국 0이 되어야 함.\n",
    "\n"
   ]
  },
  {
   "cell_type": "markdown",
   "id": "93357ffe",
   "metadata": {},
   "source": [
    "---"
   ]
  },
  {
   "cell_type": "code",
   "execution_count": 1,
   "id": "33baba8e",
   "metadata": {},
   "outputs": [],
   "source": [
    "# 초기 데이터 여러개\n",
    "\n",
    "from collections import deque\n",
    "\n",
    "def bfs():\n",
    "    \n",
    "    # 생성\n",
    "    q = deque()\n",
    "    \n",
    "    # 초기 데이터 모두 삽입 및 처리\n",
    "    cnt = 0\n",
    "    \n",
    "    for si in range(0, N):\n",
    "        \n",
    "        for sj in range(0, M):\n",
    "            \n",
    "            if arr[si][sj] == 1:\n",
    "                q.append((si,sj))\n",
    "                v[si][sj] = 1\n",
    "            \n",
    "            elif arr[si][sj] == 0:\n",
    "                cnt += 1\n",
    "            \n",
    "     \n",
    "    # 여기서 si,sj 는 무조건 N-1, M-1 따로 저장 해놔야 함\n",
    "    \n",
    "    \n",
    "    # 초기 데이터들 시작 데이터들 부터 모두 BFS 방문 처리\n",
    "    while q:\n",
    "        \n",
    "        ci,cj = q.popleft()\n",
    "        \n",
    "        # 4방향, 범위내, arr == 0, v == 0\n",
    "        \n",
    "        for di, dj in ((-1,0),(1,0),(0,1),(0,-1)):\n",
    "            \n",
    "            ni, nj = ci + di, cj + dj\n",
    "            \n",
    "            if 0<=ni<N and 0<=nj<M and arr[ni][nj] == 0 and v[ni][nj] == 0:\n",
    "                \n",
    "                q.append((ni,nj))\n",
    "                v[ni][nj] = v[ci][cj] + 1\n",
    "                \n",
    "                cnt -= 1\n",
    "                \n",
    "                \n",
    "    #---BFS 이후\n",
    "    \n",
    "    if cnt == 0:\n",
    "        return v[ci][cj] - 1\n",
    "        # return v[ci][cj] - v[si][sj] # si,sj 가 고정되어 있는게 아니므로, 저장 처리 해야함 \n",
    "    \n",
    "    else:\n",
    "        return -1\n",
    "                \n"
   ]
  },
  {
   "cell_type": "code",
   "execution_count": 2,
   "id": "3b154a89",
   "metadata": {
    "scrolled": true
   },
   "outputs": [
    {
     "name": "stdout",
     "output_type": "stream",
     "text": [
      "5 5\n",
      "-1 1 0 0 0\n",
      "0 -1 -1 -1 0\n",
      "0 -1 -1 -1 0\n",
      "0 -1 -1 -1 0\n",
      "0 0 0 0 0\n",
      "14\n"
     ]
    }
   ],
   "source": [
    "# M은 상자의 가로 칸의 수, N은 상자의 세로 칸의 수\n",
    "\n",
    "M, N = map(int, input().split())\n",
    "\n",
    "arr = [ list(map(int, input().split())) for _ in range(N) ]\n",
    "\n",
    "v = [ [0] * M for _ in range(N) ]\n",
    "\n",
    "ans = bfs()\n",
    "\n",
    "print(ans)"
   ]
  },
  {
   "cell_type": "code",
   "execution_count": 3,
   "id": "4fd652eb",
   "metadata": {},
   "outputs": [
    {
     "data": {
      "text/plain": [
       "[[0, 1, 2, 3, 4],\n",
       " [15, 0, 0, 0, 5],\n",
       " [14, 0, 0, 0, 6],\n",
       " [13, 0, 0, 0, 7],\n",
       " [12, 11, 10, 9, 8]]"
      ]
     },
     "execution_count": 3,
     "metadata": {},
     "output_type": "execute_result"
    }
   ],
   "source": [
    "v"
   ]
  }
 ],
 "metadata": {
  "kernelspec": {
   "display_name": "Python 3 (ipykernel)",
   "language": "python",
   "name": "python3"
  },
  "language_info": {
   "codemirror_mode": {
    "name": "ipython",
    "version": 3
   },
   "file_extension": ".py",
   "mimetype": "text/x-python",
   "name": "python",
   "nbconvert_exporter": "python",
   "pygments_lexer": "ipython3",
   "version": "3.8.16"
  },
  "toc": {
   "base_numbering": 1,
   "nav_menu": {},
   "number_sections": true,
   "sideBar": true,
   "skip_h1_title": false,
   "title_cell": "Table of Contents",
   "title_sidebar": "Contents",
   "toc_cell": false,
   "toc_position": {},
   "toc_section_display": true,
   "toc_window_display": false
  },
  "varInspector": {
   "cols": {
    "lenName": 16,
    "lenType": 16,
    "lenVar": 40
   },
   "kernels_config": {
    "python": {
     "delete_cmd_postfix": "",
     "delete_cmd_prefix": "del ",
     "library": "var_list.py",
     "varRefreshCmd": "print(var_dic_list())"
    },
    "r": {
     "delete_cmd_postfix": ") ",
     "delete_cmd_prefix": "rm(",
     "library": "var_list.r",
     "varRefreshCmd": "cat(var_dic_list()) "
    }
   },
   "types_to_exclude": [
    "module",
    "function",
    "builtin_function_or_method",
    "instance",
    "_Feature"
   ],
   "window_display": false
  }
 },
 "nbformat": 4,
 "nbformat_minor": 5
}
