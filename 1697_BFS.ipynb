{
 "cells": [
  {
   "cell_type": "markdown",
   "id": "470b3545",
   "metadata": {},
   "source": [
    "# [BFS_1697](https://www.acmicpc.net/problem/1697)\n",
    "\n"
   ]
  },
  {
   "cell_type": "markdown",
   "id": "37aaba7f",
   "metadata": {},
   "source": [
    "---"
   ]
  },
  {
   "cell_type": "markdown",
   "id": "04ae3065",
   "metadata": {},
   "source": [
    "## 문제\n",
    "\n",
    "수빈이는 동생과 숨바꼭질을 하고 있다. \n",
    "\n",
    "수빈이는 현재 점 N(0 ≤ N ≤ 100,000)에 있고, 동생은 점 K(0 ≤ K ≤ 100,000)에 있다. \n",
    "\n",
    "수빈이는 걷거나 순간이동을 할 수 있다. \n",
    "\n",
    "만약, 수빈이의 위치가 X일 때 걷는다면 1초 후에 X-1 또는 X+1로 이동하게 된다. \n",
    "\n",
    "순간이동을 하는 경우에는 1초 후에 2*X의 위치로 이동하게 된다.\n",
    "\n",
    "수빈이와 동생의 위치가 주어졌을 때, 수빈이가 동생을 찾을 수 있는 가장 빠른 시간이 몇 초 후인지 구하는 프로그램을 작성하시오.\n",
    "\n",
    "## 입력\n",
    "\n",
    "첫 번째 줄에 수빈이가 있는 위치 N과 동생이 있는 위치 K가 주어진다. N과 K는 정수이다.\n",
    "\n",
    "## 출력\n",
    "\n",
    "수빈이가 동생을 찾는 가장 빠른 시간을 출력한다.\n"
   ]
  },
  {
   "cell_type": "markdown",
   "id": "9bb863ee",
   "metadata": {},
   "source": [
    "---"
   ]
  },
  {
   "cell_type": "markdown",
   "id": "16bf281d",
   "metadata": {},
   "source": [
    " <img src = \"1697.png\" width = \"500\" height = \"500\" >"
   ]
  },
  {
   "cell_type": "markdown",
   "id": "50dbef73",
   "metadata": {},
   "source": [
    "---"
   ]
  },
  {
   "cell_type": "markdown",
   "id": "0d118314",
   "metadata": {},
   "source": [
    "## Memo\n",
    "\n",
    "- s지점, e지점 간 레벨 차이 \n",
    "\n",
    "- e지점 도착시 \n",
    "\n",
    "- v 제한"
   ]
  },
  {
   "cell_type": "markdown",
   "id": "0278a4ff",
   "metadata": {},
   "source": [
    "---"
   ]
  },
  {
   "cell_type": "code",
   "execution_count": 1,
   "id": "675e3ba4",
   "metadata": {},
   "outputs": [],
   "source": [
    "# 방문 레벨 차이\n",
    "\n",
    "from collections import deque\n",
    "\n",
    "def bfs(s, e):\n",
    "    \n",
    "    q = deque()\n",
    "    \n",
    "    q.append(s)\n",
    "    v[s] = 1\n",
    "    \n",
    "    while q:\n",
    "        \n",
    "        c = q.popleft()\n",
    "        \n",
    "        if (c == e):\n",
    "            return v[e] - v[s]\n",
    "        \n",
    "        for n in ((c-1), (c+1), (c*2)):\n",
    "            \n",
    "            if 0<=n<=100000 and v[n] == 0:\n",
    "                \n",
    "                q.append(n)\n",
    "                v[n] = v[c] + 1  \n",
    "\n",
    "           \n",
    "    return -1"
   ]
  },
  {
   "cell_type": "code",
   "execution_count": 2,
   "id": "9f3e594b",
   "metadata": {},
   "outputs": [
    {
     "name": "stdout",
     "output_type": "stream",
     "text": [
      "5 17\n",
      "4\n"
     ]
    }
   ],
   "source": [
    "N, K = map(int,input().split())\n",
    "\n",
    "v = [0] * 100001 # v[0] ~ v[100000]\n",
    "\n",
    "print(bfs(N,K))"
   ]
  },
  {
   "cell_type": "markdown",
   "id": "fbafc545",
   "metadata": {},
   "source": [
    "---"
   ]
  },
  {
   "cell_type": "code",
   "execution_count": 3,
   "id": "2637c80a",
   "metadata": {},
   "outputs": [],
   "source": [
    "# v 자체가 시작 지점으로 부터 도착 지점 까지 거리 \n",
    "\n",
    "from collections import deque\n",
    "\n",
    "def bfs(s,e):\n",
    "    \n",
    "    q = deque()\n",
    "    v = [0]*200001\n",
    "\n",
    "    q.append(s)\n",
    "    v[s] = 1\n",
    "    \n",
    "    while q:\n",
    "        \n",
    "        c = q.popleft()\n",
    "        \n",
    "        # start 들어올때 1로 시작하니까 -1 리턴\n",
    "        if c == e:\n",
    "            return v[e] -1\n",
    "        \n",
    "        for n in (c-1, c+1, c*2):\n",
    "            \n",
    "            if (0 <= n <= 200000) and (v[n] == 0):\n",
    "                q.append(n)\n",
    "                v[n] = v[c] + 1\n",
    "                \n",
    "                \n",
    "    return -1\n",
    "                "
   ]
  },
  {
   "cell_type": "code",
   "execution_count": 4,
   "id": "69a4c4a2",
   "metadata": {},
   "outputs": [
    {
     "name": "stdout",
     "output_type": "stream",
     "text": [
      "5 17\n",
      "4\n"
     ]
    }
   ],
   "source": [
    "N, K = map(int,input().split())\n",
    "\n",
    "ans = bfs(N, K)\n",
    "\n",
    "print(ans)"
   ]
  }
 ],
 "metadata": {
  "kernelspec": {
   "display_name": "Python 3 (ipykernel)",
   "language": "python",
   "name": "python3"
  },
  "language_info": {
   "codemirror_mode": {
    "name": "ipython",
    "version": 3
   },
   "file_extension": ".py",
   "mimetype": "text/x-python",
   "name": "python",
   "nbconvert_exporter": "python",
   "pygments_lexer": "ipython3",
   "version": "3.8.16"
  },
  "toc": {
   "base_numbering": 1,
   "nav_menu": {},
   "number_sections": true,
   "sideBar": true,
   "skip_h1_title": false,
   "title_cell": "Table of Contents",
   "title_sidebar": "Contents",
   "toc_cell": false,
   "toc_position": {},
   "toc_section_display": true,
   "toc_window_display": false
  },
  "varInspector": {
   "cols": {
    "lenName": 16,
    "lenType": 16,
    "lenVar": 40
   },
   "kernels_config": {
    "python": {
     "delete_cmd_postfix": "",
     "delete_cmd_prefix": "del ",
     "library": "var_list.py",
     "varRefreshCmd": "print(var_dic_list())"
    },
    "r": {
     "delete_cmd_postfix": ") ",
     "delete_cmd_prefix": "rm(",
     "library": "var_list.r",
     "varRefreshCmd": "cat(var_dic_list()) "
    }
   },
   "types_to_exclude": [
    "module",
    "function",
    "builtin_function_or_method",
    "instance",
    "_Feature"
   ],
   "window_display": false
  }
 },
 "nbformat": 4,
 "nbformat_minor": 5
}
