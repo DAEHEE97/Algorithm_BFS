{
 "cells": [
  {
   "cell_type": "markdown",
   "metadata": {},
   "source": [
    "# BFS_9205\n",
    "\n",
    "- [맥주 마시면서 걸어가기](https://www.acmicpc.net/problem/9205)"
   ]
  },
  {
   "cell_type": "markdown",
   "metadata": {},
   "source": [
    "---"
   ]
  },
  {
   "cell_type": "markdown",
   "metadata": {},
   "source": [
    "## 문제\n",
    "\n",
    "송도에 사는 상근이와 친구들은 송도에서 열리는 펜타포트 락 페스티벌에 가려고 한다. \n",
    "\n",
    "올해는 맥주를 마시면서 걸어가기로 했다. \n",
    "\n",
    "출발은 상근이네 집에서 하고, 맥주 한 박스를 들고 출발한다. 맥주 한 박스에는 맥주가 20개 들어있다. \n",
    "\n",
    "목이 마르면 안되기 때문에 50미터에 한 병씩 마시려고 한다. 즉, 50미터를 가려면 그 직전에 맥주 한 병을 마셔야 한다.\n",
    "\n",
    "상근이의 집에서 페스티벌이 열리는 곳은 매우 먼 거리이다. \n",
    "\n",
    "따라서, 맥주를 더 구매해야 할 수도 있다. \n",
    "\n",
    "미리 인터넷으로 조사를 해보니 다행히도 맥주를 파는 편의점이 있다. \n",
    "\n",
    "편의점에 들렸을 때, 빈 병은 버리고 새 맥주 병을 살 수 있다. \n",
    "\n",
    "하지만, 박스에 들어있는 맥주는 20병을 넘을 수 없다. \n",
    "\n",
    "편의점을 나선 직후에도 50미터를 가기 전에 맥주 한 병을 마셔야 한다.\n",
    "\n",
    "편의점, 상근이네 집, 펜타포트 락 페스티벌의 좌표가 주어진다. \n",
    "\n",
    "상근이와 친구들이 행복하게 페스티벌에 도착할 수 있는지 구하는 프로그램을 작성하시오.\n",
    "\n",
    "\n",
    "## 입력\n",
    "\n",
    "첫째 줄에 테스트 케이스의 개수 t가 주어진다. (t ≤ 50)\n",
    "\n",
    "각 테스트 케이스의 첫째 줄에는 맥주를 파는 편의점의 개수 n이 주어진다. (0 ≤ n ≤ 100).\n",
    "\n",
    "다음 n+2개 줄에는 상근이네 집, 편의점, 펜타포트 락 페스티벌 좌표가 주어진다. \n",
    "\n",
    "각 좌표는 두 정수 x와 y로 이루어져 있다. (두 값 모두 미터, -32768 ≤ x, y ≤ 32767)\n",
    "\n",
    "송도는 직사각형 모양으로 생긴 도시이다. \n",
    "\n",
    "두 좌표 사이의 거리는 x 좌표의 차이 + y 좌표의 차이 이다. (맨해튼 거리)\n",
    "\n",
    "## 출력\n",
    "\n",
    "각 테스트 케이스에 대해서 상근이와 친구들이 행복하게 페스티벌에 갈 수 있으면 \"happy\", 중간에 맥주가 바닥나서 더 이동할 수 없으면 \"sad\"를 출력한다. "
   ]
  },
  {
   "cell_type": "markdown",
   "metadata": {},
   "source": [
    "---"
   ]
  },
  {
   "cell_type": "markdown",
   "metadata": {},
   "source": [
    "<img src = \"9205.png\" width = \"500\" height = \"500\" >"
   ]
  },
  {
   "cell_type": "markdown",
   "metadata": {},
   "source": [
    "---"
   ]
  },
  {
   "cell_type": "code",
   "execution_count": null,
   "metadata": {},
   "outputs": [],
   "source": [
    "from collections import deque\n",
    "\n",
    "def bfs(sj,si,ej,ei):\n",
    "    \n",
    "    q = deque()\n",
    "    v = [0]*N\n",
    "\n",
    "    # 큐에 초기데이터 삽입, si,sj는 v에 표시X\n",
    "    q.append((sj,si))\n",
    "\n",
    "    while q:\n",
    "        cj,ci = q.popleft()\n",
    "        \n",
    "        if abs(cj-ej)+abs(ci-ei)<=1000:         # 목적지 도달가능\n",
    "            return 'happy'\n",
    "\n",
    "        # 미방문 모든 편의점좌표 : 범위내인지 체크\n",
    "        for i in range(N):\n",
    "            \n",
    "            if v[i]==0:     # 미방문 편의점\n",
    "                nj,ni = lst[i]\n",
    "                \n",
    "                if abs(cj-nj)+abs(ci-ni)<=1000: # 범위내\n",
    "                    q.append((nj,ni))\n",
    "                    v[i]=1\n",
    "\n",
    "    return 'sad'\n",
    "\n",
    "\n",
    "# 입력\n",
    "\n",
    "T = int(input())\n",
    "\n",
    "for _ in range(T):\n",
    "    \n",
    "    N = int(input())\n",
    "    \n",
    "    sj, si = map(int, input().split())\n",
    "    \n",
    "    lst = []\n",
    "    \n",
    "    for _ in range(N):\n",
    "        tj, ti = map(int, input().split())\n",
    "        lst.append((tj,ti))\n",
    "        \n",
    "    ej, ei = map(int, input().split())\n",
    "\n",
    "    ans = bfs(sj,si,ej,ei)\n",
    "    \n",
    "    print(ans)"
   ]
  }
 ],
 "metadata": {
  "hide_input": false,
  "kernelspec": {
   "display_name": "Python 3 (ipykernel)",
   "language": "python",
   "name": "python3"
  },
  "language_info": {
   "codemirror_mode": {
    "name": "ipython",
    "version": 3
   },
   "file_extension": ".py",
   "mimetype": "text/x-python",
   "name": "python",
   "nbconvert_exporter": "python",
   "pygments_lexer": "ipython3",
   "version": "3.11.2"
  },
  "toc": {
   "base_numbering": 1,
   "nav_menu": {},
   "number_sections": true,
   "sideBar": true,
   "skip_h1_title": false,
   "title_cell": "Table of Contents",
   "title_sidebar": "Contents",
   "toc_cell": false,
   "toc_position": {},
   "toc_section_display": true,
   "toc_window_display": false
  }
 },
 "nbformat": 4,
 "nbformat_minor": 4
}
