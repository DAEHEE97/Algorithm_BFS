{
 "cells": [
  {
   "cell_type": "markdown",
   "metadata": {},
   "source": [
    "# [BFS_9205](https://www.acmicpc.net/problem/9205)\n",
    "\n",
    "- [맥주 마시면서 걸어가기]"
   ]
  },
  {
   "cell_type": "markdown",
   "metadata": {},
   "source": [
    "---"
   ]
  },
  {
   "cell_type": "markdown",
   "metadata": {},
   "source": [
    "## Memo\n",
    "\n",
    "\n",
    "\n",
    "- 기존, 2d arr, si,sj 좌표를 q에 append 후 미방문, 중복 검사 처리\n",
    "\n",
    "- -32768 ≤ x, y ≤ 32767 범위, q 삽입, 중복 검사 처리 다른 방식\n",
    "\n",
    "- 현재 지점 기준, 범위 내 미방문 편의점이 있다면, 이동\n",
    "\n",
    "- 맥주 20병, 50미터, 편의점 방문 시, 1000 미터 이동 가능\n"
   ]
  },
  {
   "cell_type": "markdown",
   "metadata": {},
   "source": [
    "---"
   ]
  },
  {
   "cell_type": "markdown",
   "metadata": {},
   "source": [
    "<img src = \"9205.png\" width = \"500\" height = \"500\" >"
   ]
  },
  {
   "cell_type": "markdown",
   "metadata": {},
   "source": [
    "---"
   ]
  },
  {
   "cell_type": "code",
   "execution_count": 1,
   "metadata": {},
   "outputs": [],
   "source": [
    "from collections import deque\n",
    "\n",
    "def bfs(sj,si,ej,ei):\n",
    "    \n",
    "    q = deque()\n",
    "\n",
    "    # 큐에 초기데이터 삽입, si,sj는 v 표시 X\n",
    "    q.append((sj,si))\n",
    "\n",
    "    while q:\n",
    "        \n",
    "        cj,ci = q.popleft()\n",
    "        \n",
    "        if abs(cj-ej) + abs(ci-ei) <= 1000:         # 목적지 도달가능\n",
    "            return 'happy'\n",
    "\n",
    "        # 미방문 한 편의점 중, 범위내 존재 하는지 확인  \n",
    "        for i in range(N):\n",
    "            \n",
    "            if v[i] == 0:     # 미방문 편의점\n",
    "                \n",
    "                nj,ni = lst[i]\n",
    "                \n",
    "                if abs(cj-nj) + abs(ci-ni) <= 1000: # 범위내\n",
    "                    \n",
    "                    q.append((nj,ni))\n",
    "                    v[i] = 1\n",
    "\n",
    "    return 'sad'\n",
    "\n"
   ]
  },
  {
   "cell_type": "code",
   "execution_count": 2,
   "metadata": {},
   "outputs": [
    {
     "name": "stdout",
     "output_type": "stream",
     "text": [
      "1\n",
      "2\n",
      "0 0\n",
      "1000 0\n",
      "1000 1000\n",
      "2000 1000\n",
      "happy\n"
     ]
    }
   ],
   "source": [
    "\n",
    "# 입력\n",
    "\n",
    "T = int(input())\n",
    "\n",
    "for _ in range(1, T+1):\n",
    "    \n",
    "\n",
    "    # 편의점 개수 \n",
    "    N = int(input())\n",
    "    \n",
    "    # n 번째 편의점의 방문 표시 리스트 \n",
    "    v = [0] * N \n",
    "\n",
    "        \n",
    "    # 시작 좌표 x 좌표, y 좌표, j, i \n",
    "    sj, si = map(int, input().split())\n",
    "    \n",
    "    # 편의점 위치 \n",
    "    lst = []\n",
    "\n",
    "    for _ in range(N):\n",
    "        \n",
    "        tj, ti = map(int, input().split())\n",
    "        lst.append((tj,ti))\n",
    "        \n",
    "    # 도착 지점    \n",
    "    ej, ei = map(int, input().split())\n",
    "\n",
    "    \n",
    "    # s to e, 갈 수 있으면 \"happy\", 중간에 맥주가 바닥나서 더 이동할 수 없으면 \"sad\"\n",
    "    ans = bfs(sj,si,ej,ei)\n",
    "    \n",
    "    print(ans)"
   ]
  },
  {
   "cell_type": "markdown",
   "metadata": {},
   "source": [
    "---"
   ]
  },
  {
   "cell_type": "code",
   "execution_count": 3,
   "metadata": {},
   "outputs": [
    {
     "data": {
      "text/plain": [
       "[(1000, 0), (1000, 1000)]"
      ]
     },
     "execution_count": 3,
     "metadata": {},
     "output_type": "execute_result"
    }
   ],
   "source": [
    "lst"
   ]
  },
  {
   "cell_type": "code",
   "execution_count": 4,
   "metadata": {},
   "outputs": [
    {
     "data": {
      "text/plain": [
       "[1, 1]"
      ]
     },
     "execution_count": 4,
     "metadata": {},
     "output_type": "execute_result"
    }
   ],
   "source": [
    "v"
   ]
  }
 ],
 "metadata": {
  "hide_input": false,
  "kernelspec": {
   "display_name": "Python 3 (ipykernel)",
   "language": "python",
   "name": "python3"
  },
  "language_info": {
   "codemirror_mode": {
    "name": "ipython",
    "version": 3
   },
   "file_extension": ".py",
   "mimetype": "text/x-python",
   "name": "python",
   "nbconvert_exporter": "python",
   "pygments_lexer": "ipython3",
   "version": "3.8.16"
  },
  "toc": {
   "base_numbering": 1,
   "nav_menu": {},
   "number_sections": true,
   "sideBar": true,
   "skip_h1_title": false,
   "title_cell": "Table of Contents",
   "title_sidebar": "Contents",
   "toc_cell": false,
   "toc_position": {},
   "toc_section_display": true,
   "toc_window_display": false
  },
  "varInspector": {
   "cols": {
    "lenName": 16,
    "lenType": 16,
    "lenVar": 40
   },
   "kernels_config": {
    "python": {
     "delete_cmd_postfix": "",
     "delete_cmd_prefix": "del ",
     "library": "var_list.py",
     "varRefreshCmd": "print(var_dic_list())"
    },
    "r": {
     "delete_cmd_postfix": ") ",
     "delete_cmd_prefix": "rm(",
     "library": "var_list.r",
     "varRefreshCmd": "cat(var_dic_list()) "
    }
   },
   "types_to_exclude": [
    "module",
    "function",
    "builtin_function_or_method",
    "instance",
    "_Feature"
   ],
   "window_display": false
  }
 },
 "nbformat": 4,
 "nbformat_minor": 4
}
