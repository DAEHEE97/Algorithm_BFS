{
 "cells": [
  {
   "cell_type": "markdown",
   "metadata": {},
   "source": [
    "# [BFS_9205](https://www.acmicpc.net/problem/9205)\n",
    "\n",
    "- [맥주 마시면서 걸어가기]"
   ]
  },
  {
   "cell_type": "markdown",
   "metadata": {},
   "source": [
    "## Memo\n",
    "\n",
    "- ci,cj 기준으로 n개의 편의점 이동 가능 확인 후 처리 \n"
   ]
  },
  {
   "cell_type": "markdown",
   "metadata": {},
   "source": [
    "---"
   ]
  },
  {
   "cell_type": "markdown",
   "metadata": {},
   "source": [
    "<img src = \"9205.png\" width = \"500\" height = \"500\" >"
   ]
  },
  {
   "cell_type": "markdown",
   "metadata": {},
   "source": [
    "---"
   ]
  },
  {
   "cell_type": "code",
   "execution_count": null,
   "metadata": {},
   "outputs": [],
   "source": [
    "from collections import deque\n",
    "\n",
    "def bfs(sj,si,ej,ei):\n",
    "    \n",
    "    q = deque()\n",
    "    v = [0] * N\n",
    "\n",
    "    # 큐에 초기데이터 삽입\n",
    "    # si,sj는 v 표시 X\n",
    "    q.append((sj,si))\n",
    "\n",
    "    while q:\n",
    "        \n",
    "        cj,ci = q.popleft()\n",
    "        \n",
    "        if abs(cj-ej) + abs(ci-ei) <= 1000:         # 목적지 도달가능\n",
    "            return 'happy'\n",
    "\n",
    "        # 미방문 모든 편의점 좌표 범위내인지 체크\n",
    "        for i in range(N):\n",
    "            \n",
    "            if v[i] == 0:     # 미방문 편의점\n",
    "                \n",
    "                nj,ni = lst[i]\n",
    "                \n",
    "                if abs(cj-nj) + abs(ci-ni) <= 1000: # 범위내\n",
    "                    q.append((nj,ni))\n",
    "                    v[i] = 1\n",
    "\n",
    "    return 'sad'\n",
    "\n",
    "\n",
    "# 입력\n",
    "\n",
    "T = int(input())\n",
    "\n",
    "for _ in range(1, T+1):\n",
    "    \n",
    "    N = int(input())\n",
    "    \n",
    "    sj, si = map(int, input().split())\n",
    "    \n",
    "    lst = []\n",
    "    \n",
    "    for _ in range(N):\n",
    "        tj, ti = map(int, input().split())\n",
    "        lst.append((tj,ti))\n",
    "        \n",
    "    ej, ei = map(int, input().split())\n",
    "\n",
    "    ans = bfs(sj,si,ej,ei)\n",
    "    \n",
    "    print(ans)"
   ]
  }
 ],
 "metadata": {
  "hide_input": false,
  "kernelspec": {
   "display_name": "Python 3 (ipykernel)",
   "language": "python",
   "name": "python3"
  },
  "language_info": {
   "codemirror_mode": {
    "name": "ipython",
    "version": 3
   },
   "file_extension": ".py",
   "mimetype": "text/x-python",
   "name": "python",
   "nbconvert_exporter": "python",
   "pygments_lexer": "ipython3",
   "version": "3.8.16"
  },
  "toc": {
   "base_numbering": 1,
   "nav_menu": {},
   "number_sections": true,
   "sideBar": true,
   "skip_h1_title": false,
   "title_cell": "Table of Contents",
   "title_sidebar": "Contents",
   "toc_cell": false,
   "toc_position": {},
   "toc_section_display": true,
   "toc_window_display": false
  },
  "varInspector": {
   "cols": {
    "lenName": 16,
    "lenType": 16,
    "lenVar": 40
   },
   "kernels_config": {
    "python": {
     "delete_cmd_postfix": "",
     "delete_cmd_prefix": "del ",
     "library": "var_list.py",
     "varRefreshCmd": "print(var_dic_list())"
    },
    "r": {
     "delete_cmd_postfix": ") ",
     "delete_cmd_prefix": "rm(",
     "library": "var_list.r",
     "varRefreshCmd": "cat(var_dic_list()) "
    }
   },
   "types_to_exclude": [
    "module",
    "function",
    "builtin_function_or_method",
    "instance",
    "_Feature"
   ],
   "window_display": false
  }
 },
 "nbformat": 4,
 "nbformat_minor": 4
}
