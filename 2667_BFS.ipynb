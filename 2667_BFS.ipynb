{
 "cells": [
  {
   "cell_type": "markdown",
   "metadata": {},
   "source": [
    "# [BFS_2667](https://www.acmicpc.net/problem/2667)\n",
    "\n",
    "- 방문 개수 처리\n",
    "\n",
    "- 방문 표시를 처리해서, 중복해서 처리하지 않도록 함\n",
    "\n",
    "    - 조건이, 4방향, 범위내, 1을 만나면, 근데 방문표시 x\n",
    "\n",
    "- 문제 조건에 맞을때, 그점을 시작점으로 bfs 수행"
   ]
  },
  {
   "cell_type": "markdown",
   "metadata": {},
   "source": [
    "---"
   ]
  },
  {
   "cell_type": "markdown",
   "metadata": {},
   "source": [
    "## 문제\n",
    "\n",
    "<그림 1>과 같이 정사각형 모양의 지도가 있다. \n",
    "\n",
    "1은 집이 있는 곳을, 0은 집이 없는 곳을 나타낸다. \n",
    "\n",
    "철수는 이 지도를 가지고 연결된 집의 모임인 단지를 정의하고, 단지에 번호를 붙이려 한다. \n",
    "\n",
    "여기서 연결되었다는 것은 어떤 집이 좌우, 혹은 아래위로 다른 집이 있는 경우를 말한다. \n",
    "\n",
    "대각선상에 집이 있는 경우는 연결된 것이 아니다. \n",
    "\n",
    "<그림 2>는 <그림 1>을 단지별로 번호를 붙인 것이다. \n",
    "\n",
    "- 지도를 입력하여 단지수를 출력하고, 각 단지에 속하는 집의 수를 오름차순으로 정렬하여 출력하는 프로그램을 작성하시오.\n",
    "\n",
    "<img src = https://www.acmicpc.net/upload/images/ITVH9w1Gf6eCRdThfkegBUSOKd.png>\n",
    "\n",
    "## 입력\n",
    "\n",
    "첫 번째 줄에는 지도의 크기 N(정사각형이므로 가로와 세로의 크기는 같으며 5≤N≤25)이 입력되고, \n",
    "\n",
    "그 다음 N줄에는 각각 N개의 자료(0혹은 1)가 입력된다.\n",
    "\n",
    "## 출력\n",
    "\n",
    "첫 번째 줄에는 총 단지수를 출력하시오. \n",
    "\n",
    "그리고 각 단지내 집의 수를 오름차순으로 정렬하여 한 줄에 하나씩 출력하시오."
   ]
  },
  {
   "cell_type": "markdown",
   "metadata": {},
   "source": [
    "\n",
    "\n"
   ]
  },
  {
   "cell_type": "markdown",
   "metadata": {},
   "source": [
    "---"
   ]
  },
  {
   "cell_type": "markdown",
   "metadata": {},
   "source": [
    "<img src = \"2667.png\" width = 500 height = 500 >"
   ]
  },
  {
   "cell_type": "markdown",
   "metadata": {},
   "source": [
    "---"
   ]
  },
  {
   "cell_type": "markdown",
   "metadata": {},
   "source": [
    "## Memo\n",
    "\n",
    "\n",
    "- 이전에는 시작점을 주면 bfs 탐색\n",
    "\n",
    "- 이 문제 부터 조건에 맞으면, 그때 부터 시작점을 기준으로 bfs 탐색\n",
    "\n",
    "- 조건 확인을 위해, 방문 처리 리스트 v 를 메인 전역 변수로 처리\n",
    "\n",
    "\n",
    "\n",
    "1. 전체에서 몇개인지 \n",
    "    - 삽입 개수가 결국 전체에서 카운트\n",
    "\n",
    "2. 내부안에서 몇개인지 > cnt \n",
    "    - append 하면서 카운트\n",
    "    - pop 하면서 카운트\n",
    "\n",
    "3. 2차원 배열 arr를 전체 순회 하다가 방문하지 않은  arr 1을 만나면, bfs\n",
    "\n",
    "4. 그 점을 기준으로 bfs 호출해서 주변 노드 모두 방문, 그럼 1개 그룹 완성\n",
    "\n",
    "5. bfs는 그룹내 개수 를 리턴해야함 \n",
    "\n",
    "\n",
    "\n",
    "-  i 고정, j 이동, 열 고정 후, 옆(행)으로 이동하면서 순회\n",
    "\n",
    "```.py\n",
    "for i in range(N):\n",
    "    for j in range(N):\n",
    "        if arr[i][j]==1 and v[i][j]==0:\n",
    "            ans.append(bfs(i,j))\n",
    "```\n",
    "\n",
    "\n",
    "\n"
   ]
  },
  {
   "cell_type": "markdown",
   "metadata": {},
   "source": [
    "---"
   ]
  },
  {
   "cell_type": "markdown",
   "metadata": {},
   "source": [
    "## ans\n",
    "\n",
    "- ans = 0 부터 시작해서, 노드 popleft() 할때 마다 ans += 1 처리 후 리턴\n"
   ]
  },
  {
   "cell_type": "code",
   "execution_count": 9,
   "metadata": {},
   "outputs": [],
   "source": [
    "# v에다 실제로, 1, 2, 3 을 입력하는게 아니라, 연결된 1의 개수 cnt 만 처리\n",
    "\n",
    "\n",
    "from collections import deque\n",
    "\n",
    "def bfs(si,sj):\n",
    "    \n",
    "    q = deque()\n",
    "    \n",
    "    q.append((si,sj))\n",
    "    v[si][sj] = 1\n",
    "    \n",
    "    ans = 0\n",
    "    \n",
    "    # 인접 노드 4방향 모두 방문 \n",
    "    while q:\n",
    "        \n",
    "        ci,cj = q.popleft()\n",
    "        \n",
    "        # 정답 처리 단순 \n",
    "        # 인접 노드 개수 카운트, 종료 후 리턴\n",
    "        ans += 1\n",
    "        \n",
    "        for di,dj in ((-1,0),(1,0),(0,-1),(0,1)):\n",
    "            \n",
    "            ni,nj = ci+di, cj+dj\n",
    "            \n",
    "            if (0<=ni<N) and (0<=nj<N) and (v[ni][nj]==0) and (arr[ni][nj] == 1):\n",
    "                \n",
    "                q.append((ni,nj))\n",
    "                v[ni][nj] = 1\n",
    "                     \n",
    "    return ans "
   ]
  },
  {
   "cell_type": "code",
   "execution_count": 10,
   "metadata": {},
   "outputs": [
    {
     "name": "stdout",
     "output_type": "stream",
     "text": [
      "3\n",
      "7\n",
      "8\n",
      "9\n"
     ]
    }
   ],
   "source": [
    "N = int(input())\n",
    "\n",
    "arr = [ list(map(int, input())) for _ in range(N) ]\n",
    "\n",
    "v = [ [0] * N for _ in range(N) ] \n",
    "\n",
    "lst = []\n",
    "\n",
    "\n",
    "# 방문하지 않았던 집 발견시, 그때 bfs 탐색, bfs 는 cnt를 return 해야 함\n",
    "ans = 0\n",
    "\n",
    "# 전체 탐색\n",
    "for si in range(N):\n",
    "    \n",
    "    for sj in range(N):\n",
    "        \n",
    "        if ( v[si][sj]==0 and arr[si][sj] == 1 ):\n",
    "            \n",
    "            lst.append(bfs(si,sj)) # 집 개수\n",
    "            ans += 1               # 단지 개수\n",
    "\n",
    "            \n",
    "lst.sort()\n",
    "\n",
    "print(len(lst), *lst, sep='\\n')"
   ]
  },
  {
   "cell_type": "code",
   "execution_count": 11,
   "metadata": {},
   "outputs": [
    {
     "data": {
      "text/plain": [
       "[[0, 1, 1, 0, 1, 0, 0],\n",
       " [0, 1, 1, 0, 1, 0, 1],\n",
       " [1, 1, 1, 0, 1, 0, 1],\n",
       " [0, 0, 0, 0, 1, 1, 1],\n",
       " [0, 1, 0, 0, 0, 0, 0],\n",
       " [0, 1, 1, 1, 1, 1, 0],\n",
       " [0, 1, 1, 1, 0, 0, 0]]"
      ]
     },
     "execution_count": 11,
     "metadata": {},
     "output_type": "execute_result"
    }
   ],
   "source": [
    "v"
   ]
  },
  {
   "cell_type": "markdown",
   "metadata": {},
   "source": [
    "---"
   ]
  },
  {
   "cell_type": "markdown",
   "metadata": {},
   "source": [
    "## cnt\n",
    "\n",
    "- cnt = 1, v = cnt 로 표시하면서 시작\n",
    "\n",
    "- 방문 할때 마다 cnt+=1 하면서, v= cnt 처리하면서, 방문 표시 리스트에 = 1이 아니라, = cnt 개수 대입 처리\n"
   ]
  },
  {
   "cell_type": "code",
   "execution_count": 12,
   "metadata": {},
   "outputs": [],
   "source": [
    "# bfs: 시작 위치 파라미터로 받고, 해당 위치에서 bfs 해서, 연결된 1의 개수 리턴\n",
    "\n",
    "from collections import deque\n",
    "\n",
    "def bfs(si,sj):\n",
    "    \n",
    "    q = deque()\n",
    "    \n",
    "    q.append((si,sj))\n",
    "    \n",
    "    cnt = 1\n",
    "\n",
    "    v[si][sj] = cnt\n",
    "    \n",
    "    \n",
    "    while q:\n",
    "        \n",
    "        ci,cj = q.popleft()\n",
    "        \n",
    "        \n",
    "        for di,dj in ((-1,0),(1,0),(0,-1),(0,1)):\n",
    "            ni,nj = ci+di, cj+dj\n",
    "            \n",
    "            if (0<=ni<N) and (0<=nj<N) and (v[ni][nj]==0) and (arr[ni][nj] == 1):\n",
    "                \n",
    "                cnt+=1\n",
    "                \n",
    "                q.append((ni,nj))\n",
    "                v[ni][nj] = cnt\n",
    "                \n",
    "              \n",
    "            \n",
    "    return cnt"
   ]
  },
  {
   "cell_type": "code",
   "execution_count": 13,
   "metadata": {},
   "outputs": [
    {
     "name": "stdout",
     "output_type": "stream",
     "text": [
      "3\n",
      "7\n",
      "8\n",
      "9\n"
     ]
    }
   ],
   "source": [
    "N = int(input())\n",
    "\n",
    "arr = [ list(map(int, input())) for _ in range(N) ]\n",
    "\n",
    "v = [ [0] * N for _ in range(N) ] \n",
    "\n",
    "lst = []\n",
    "\n",
    "\n",
    "# 방문하지 않았던 집 발견시, 그때 bfs 탐색, bfs 는 cnt를 return 해야 함\n",
    "\n",
    "count = 0\n",
    "\n",
    "# 전체 탐색\n",
    "for i in range(N):\n",
    "    for j in range(N):\n",
    "        if ( v[i][j]==0 and arr[i][j] == 1 ):\n",
    "            lst.append(bfs(i,j)) # 집 개수\n",
    "            count+=1             # 단지 개수\n",
    "\n",
    "lst.sort()\n",
    "\n",
    "print(len(lst), *lst, sep='\\n')"
   ]
  },
  {
   "cell_type": "code",
   "execution_count": 14,
   "metadata": {},
   "outputs": [
    {
     "data": {
      "text/plain": [
       "[[0, 1, 3, 0, 1, 0, 0],\n",
       " [0, 2, 5, 0, 2, 0, 8],\n",
       " [6, 4, 7, 0, 3, 0, 7],\n",
       " [0, 0, 0, 0, 4, 5, 6],\n",
       " [0, 1, 0, 0, 0, 0, 0],\n",
       " [0, 2, 4, 6, 8, 9, 0],\n",
       " [0, 3, 5, 7, 0, 0, 0]]"
      ]
     },
     "execution_count": 14,
     "metadata": {},
     "output_type": "execute_result"
    }
   ],
   "source": [
    "v"
   ]
  },
  {
   "cell_type": "markdown",
   "metadata": {},
   "source": [
    "---"
   ]
  }
 ],
 "metadata": {
  "hide_input": false,
  "kernelspec": {
   "display_name": "Python 3 (ipykernel)",
   "language": "python",
   "name": "python3"
  },
  "language_info": {
   "codemirror_mode": {
    "name": "ipython",
    "version": 3
   },
   "file_extension": ".py",
   "mimetype": "text/x-python",
   "name": "python",
   "nbconvert_exporter": "python",
   "pygments_lexer": "ipython3",
   "version": "3.8.16"
  },
  "toc": {
   "base_numbering": 1,
   "nav_menu": {},
   "number_sections": true,
   "sideBar": true,
   "skip_h1_title": false,
   "title_cell": "Table of Contents",
   "title_sidebar": "Contents",
   "toc_cell": false,
   "toc_position": {},
   "toc_section_display": true,
   "toc_window_display": false
  },
  "varInspector": {
   "cols": {
    "lenName": 16,
    "lenType": 16,
    "lenVar": 40
   },
   "kernels_config": {
    "python": {
     "delete_cmd_postfix": "",
     "delete_cmd_prefix": "del ",
     "library": "var_list.py",
     "varRefreshCmd": "print(var_dic_list())"
    },
    "r": {
     "delete_cmd_postfix": ") ",
     "delete_cmd_prefix": "rm(",
     "library": "var_list.r",
     "varRefreshCmd": "cat(var_dic_list()) "
    }
   },
   "types_to_exclude": [
    "module",
    "function",
    "builtin_function_or_method",
    "instance",
    "_Feature"
   ],
   "window_display": false
  }
 },
 "nbformat": 4,
 "nbformat_minor": 4
}
