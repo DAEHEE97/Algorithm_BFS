{
 "cells": [
  {
   "cell_type": "markdown",
   "id": "0393a06d",
   "metadata": {},
   "source": [
    "# [7562_BFS](https://www.acmicpc.net/problem/7562)"
   ]
  },
  {
   "cell_type": "markdown",
   "id": "d5c62155",
   "metadata": {},
   "source": [
    "---"
   ]
  },
  {
   "cell_type": "code",
   "execution_count": 10,
   "id": "8101cb5e",
   "metadata": {},
   "outputs": [],
   "source": [
    "from collections import deque\n",
    "\n",
    "def bfs(si,sj,ei,ej):\n",
    "    \n",
    "    q = deque()\n",
    "    \n",
    "    q.append((si,sj))\n",
    "    v[si][sj] = 1\n",
    "    \n",
    "    \n",
    "    while q:\n",
    "        \n",
    "        ci,cj = q.popleft()\n",
    "        \n",
    "        if (ci,cj) == (ei,ej):\n",
    "            \n",
    "            return v[ei][ej] -1 \n",
    "        \n",
    "        for di,dj in ((1,2),(1,-2),(2,1),(2,-1),(-1,2),(-1,-2),(-2,1),(-2,-1)):\n",
    "            \n",
    "            ni,nj = ci+di, cj+dj\n",
    "            \n",
    "            if 0<=ni<l and 0<=nj<l and v[ni][nj] == 0:\n",
    "                \n",
    "                q.append((ni,nj))\n",
    "                \n",
    "                v[ni][nj] = v[ci][cj] + 1\n",
    "        \n",
    "    \n",
    "    # 없으면 0 \n",
    "    return 0\n",
    "    "
   ]
  },
  {
   "cell_type": "code",
   "execution_count": 12,
   "id": "149cc160",
   "metadata": {},
   "outputs": [
    {
     "name": "stdout",
     "output_type": "stream",
     "text": [
      "1\n",
      "100\n",
      "0 0\n",
      "30 50\n",
      "28\n"
     ]
    }
   ],
   "source": [
    "T = int(input())\n",
    "\n",
    "\n",
    "for t in range(1, T+1):\n",
    "    \n",
    "    # l * l 체스판\n",
    "    l = int(input())\n",
    "    \n",
    "    arr = [ [0] * l for _ in range(l)]\n",
    "    \n",
    "    v = [ [0] * l for _ in range(l)] \n",
    "    \n",
    "    \n",
    "    # 현재 칸\n",
    "    si, sj = map(int, input().split())\n",
    "    \n",
    "    # 이동하려는 칸\n",
    "    ei, ej = map(int, input().split())\n",
    "\n",
    "    \n",
    "    ans = bfs(si,sj,ei,ej)\n",
    "    \n",
    "    print(ans)\n",
    "        "
   ]
  }
 ],
 "metadata": {
  "kernelspec": {
   "display_name": "Python 3 (ipykernel)",
   "language": "python",
   "name": "python3"
  },
  "language_info": {
   "codemirror_mode": {
    "name": "ipython",
    "version": 3
   },
   "file_extension": ".py",
   "mimetype": "text/x-python",
   "name": "python",
   "nbconvert_exporter": "python",
   "pygments_lexer": "ipython3",
   "version": "3.8.16"
  },
  "toc": {
   "base_numbering": 1,
   "nav_menu": {},
   "number_sections": true,
   "sideBar": true,
   "skip_h1_title": false,
   "title_cell": "Table of Contents",
   "title_sidebar": "Contents",
   "toc_cell": false,
   "toc_position": {},
   "toc_section_display": true,
   "toc_window_display": false
  },
  "varInspector": {
   "cols": {
    "lenName": 16,
    "lenType": 16,
    "lenVar": 40
   },
   "kernels_config": {
    "python": {
     "delete_cmd_postfix": "",
     "delete_cmd_prefix": "del ",
     "library": "var_list.py",
     "varRefreshCmd": "print(var_dic_list())"
    },
    "r": {
     "delete_cmd_postfix": ") ",
     "delete_cmd_prefix": "rm(",
     "library": "var_list.r",
     "varRefreshCmd": "cat(var_dic_list()) "
    }
   },
   "types_to_exclude": [
    "module",
    "function",
    "builtin_function_or_method",
    "instance",
    "_Feature"
   ],
   "window_display": false
  }
 },
 "nbformat": 4,
 "nbformat_minor": 5
}
