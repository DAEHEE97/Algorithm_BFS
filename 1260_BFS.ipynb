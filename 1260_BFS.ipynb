{
 "cells": [
  {
   "cell_type": "markdown",
   "metadata": {},
   "source": [
    "# [BFS_1260](https://www.acmicpc.net/problem/1260)\n"
   ]
  },
  {
   "cell_type": "markdown",
   "metadata": {},
   "source": [
    "---"
   ]
  },
  {
   "cell_type": "markdown",
   "metadata": {},
   "source": [
    "## MEMO\n",
    "\n",
    "- adj 리스트 내 요소들 오름차순 정렬 (방문 할 수 있는 정점의 개수가 여러 개인 경우 정점 번호가 작은 것을 먼저 방문 조건)\n",
    "\n",
    "- 방문 표시 리스트 v, 함수 내부에서 생성하고, 이를 함수의 매개변수로 사용하는 방식은 코드의 가독성과 안정성을 높여줌\n",
    "\n",
    "- 방문 표시리스트 를 함수안에서 생성할지 밖에서 생성할지 에 관하여, 정답 처리 와 코드 간결성 유지보수성을 생각하면, 함수내 지역변수로 처리하는게 좋지만, 코딩테스트 특성상 코드를 디버깅하면서 처리해야 하므로, 일단 전역변수로 처리\n"
   ]
  },
  {
   "cell_type": "markdown",
   "metadata": {},
   "source": [
    "---"
   ]
  },
  {
   "cell_type": "code",
   "execution_count": 6,
   "metadata": {},
   "outputs": [],
   "source": [
    "from collections import deque\n",
    "\n",
    "def bfs(s):\n",
    "    \n",
    "    # 2-1) 큐, 방문 표시 리스트 생성\n",
    "    q = deque()\n",
    "    v = [0] * (N+1) \n",
    "    \n",
    "    # 2-2)시작 노드 방문 처리 및 큐 삽입\n",
    "    v[s] = 1\n",
    "    q.append(s)\n",
    "    \n",
    "    ans.append(s)\n",
    "    \n",
    "    # q가 빌때 까지 처리\n",
    "    while q:\n",
    "        \n",
    "        c = q.popleft()\n",
    "        \n",
    "        # 인접 노드 중 조건(미방문)에 만족하면 방문 처리\n",
    "        for n in adj[c]:\n",
    "            \n",
    "            if v[n] == 0 :\n",
    "                \n",
    "                v[n] = 1\n",
    "                q.append(n) # 큐에 삽입하여, 이거랑 연결되어 있는 노드도 검색\n",
    "                \n",
    "                ans.append(n) # 정답 처리\n",
    "                "
   ]
  },
  {
   "cell_type": "code",
   "execution_count": 7,
   "metadata": {},
   "outputs": [
    {
     "name": "stdout",
     "output_type": "stream",
     "text": [
      "5 5 3\n",
      "5 4\n",
      "5 2\n",
      "1 2\n",
      "3 4\n",
      "3 1\n"
     ]
    }
   ],
   "source": [
    "# 정점의 개수, 간선의 개수, 탐색 시장 정점\n",
    "\n",
    "N, M, S = map(int, input().split())\n",
    "\n",
    "# 1-1) 인접 리스트 생성, idx 기준 0번 제외\n",
    "adj = [ [] for _ in range(N+1) ]\n",
    "\n",
    "# 1-2) 인접 리스트 양방향 처리\n",
    "for _ in range(M):\n",
    "    s, e = map(int, input().split())\n",
    "    adj[s].append(e)\n",
    "    adj[e].append(s)    \n",
    "\n",
    "# 1-3) 인접 리스트 내 오름차순 처리, 정점 번호가 적은것 우선 순위로 방문 처리 \n",
    "for lst in adj:\n",
    "    lst.sort()\n",
    "    \n",
    "# 1-4) 방문 순서 처리    \n",
    "ans = []  \n",
    "\n",
    "bfs(S)"
   ]
  },
  {
   "cell_type": "code",
   "execution_count": 8,
   "metadata": {},
   "outputs": [
    {
     "data": {
      "text/plain": [
       "[3, 1, 4, 2, 5]"
      ]
     },
     "execution_count": 8,
     "metadata": {},
     "output_type": "execute_result"
    }
   ],
   "source": [
    "ans"
   ]
  },
  {
   "cell_type": "markdown",
   "metadata": {},
   "source": [
    "---"
   ]
  },
  {
   "cell_type": "markdown",
   "metadata": {},
   "source": [
    "---"
   ]
  },
  {
   "cell_type": "code",
   "execution_count": 3,
   "metadata": {},
   "outputs": [],
   "source": [
    "from collections import deque\n",
    "\n",
    "def bfs(s):\n",
    "    \n",
    "    # 2-1) 큐, 방문 표시 리스트 생성\n",
    "    q = deque()\n",
    "    v = [0] * (N+1) \n",
    "    \n",
    "    # 2-2)시작 노드 방문 처리 및 큐 삽입\n",
    "    v[s] = 1\n",
    "    q.append(s)\n",
    "        \n",
    "    # q가 빌때 까지 처리\n",
    "    while q:\n",
    "        \n",
    "        c = q.popleft()\n",
    "        \n",
    "        # 정답 처리 \n",
    "        ans.append(c) \n",
    "        \n",
    "        # 인접 노드 중 조건(미방문)에 만족하면 방문 처리\n",
    "        for n in adj[c]:\n",
    "            \n",
    "            if v[n] == 0 :\n",
    "                \n",
    "                v[n] = 1\n",
    "                q.append(n) # 큐에 삽입하여, 이거랑 연결되어 있는 노드도 검색\n",
    "                \n",
    "                "
   ]
  },
  {
   "cell_type": "code",
   "execution_count": 4,
   "metadata": {},
   "outputs": [
    {
     "name": "stdout",
     "output_type": "stream",
     "text": [
      "4 5 1\n",
      "1 2\n",
      "1 3\n",
      "1 4\n",
      "2 4\n",
      "3 4\n"
     ]
    }
   ],
   "source": [
    "# 정점의 개수, 간선의 개수, 탐색 시장 정점\n",
    "\n",
    "N, M, S = map(int, input().split())\n",
    "\n",
    "# 1-1) 인접 리스트 생성, idx 기준 0번 제외\n",
    "adj = [ [] for _ in range(N+1) ]\n",
    "\n",
    "# 1-2) 인접 리스트 양방향 처리\n",
    "for _ in range(M):\n",
    "    s, e = map(int, input().split())\n",
    "    adj[s].append(e)\n",
    "    adj[e].append(s)    \n",
    "\n",
    "# 1-3) 인접 리스트 내 오름차순 처리, 정점 번호가 적은것 우선 순위로 방문 처리 \n",
    "for lst in adj:\n",
    "    lst.sort()\n",
    "    \n",
    "# 1-4) 방문 순서 처리    \n",
    "ans = []  \n",
    "\n",
    "bfs(S)"
   ]
  },
  {
   "cell_type": "code",
   "execution_count": 5,
   "metadata": {},
   "outputs": [
    {
     "data": {
      "text/plain": [
       "[1, 2, 3, 4]"
      ]
     },
     "execution_count": 5,
     "metadata": {},
     "output_type": "execute_result"
    }
   ],
   "source": [
    "ans"
   ]
  }
 ],
 "metadata": {
  "hide_input": false,
  "kernelspec": {
   "display_name": "Python 3 (ipykernel)",
   "language": "python",
   "name": "python3"
  },
  "language_info": {
   "codemirror_mode": {
    "name": "ipython",
    "version": 3
   },
   "file_extension": ".py",
   "mimetype": "text/x-python",
   "name": "python",
   "nbconvert_exporter": "python",
   "pygments_lexer": "ipython3",
   "version": "3.8.16"
  },
  "toc": {
   "base_numbering": 1,
   "nav_menu": {},
   "number_sections": true,
   "sideBar": true,
   "skip_h1_title": false,
   "title_cell": "Table of Contents",
   "title_sidebar": "Contents",
   "toc_cell": false,
   "toc_position": {},
   "toc_section_display": true,
   "toc_window_display": false
  },
  "varInspector": {
   "cols": {
    "lenName": 16,
    "lenType": 16,
    "lenVar": 40
   },
   "kernels_config": {
    "python": {
     "delete_cmd_postfix": "",
     "delete_cmd_prefix": "del ",
     "library": "var_list.py",
     "varRefreshCmd": "print(var_dic_list())"
    },
    "r": {
     "delete_cmd_postfix": ") ",
     "delete_cmd_prefix": "rm(",
     "library": "var_list.r",
     "varRefreshCmd": "cat(var_dic_list()) "
    }
   },
   "types_to_exclude": [
    "module",
    "function",
    "builtin_function_or_method",
    "instance",
    "_Feature"
   ],
   "window_display": false
  }
 },
 "nbformat": 4,
 "nbformat_minor": 4
}
