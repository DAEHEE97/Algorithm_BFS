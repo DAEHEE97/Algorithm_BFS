{
 "cells": [
  {
   "cell_type": "markdown",
   "metadata": {},
   "source": [
    "# [BFS_1260](https://www.acmicpc.net/problem/1260)\n"
   ]
  },
  {
   "cell_type": "markdown",
   "metadata": {},
   "source": [
    "---"
   ]
  },
  {
   "cell_type": "markdown",
   "metadata": {},
   "source": [
    "## 문제\n",
    "\n",
    "그래프를 DFS로 탐색한 결과와 BFS로 탐색한 결과를 출력하는 프로그램을 작성하시오.\n",
    "\n",
    "단, 방문할 수 있는 정점이 여러 개인 경우에는 정점 번호가 작은 것을 먼저 방문하고, 더 이상 방문할 수 있는 점이 없는 경우 종료한다. 정점 번호는 1번부터 N번까지이다.\n",
    "\n",
    "## 입력\n",
    "\n",
    "첫째 줄에 정점의 개수 N(1 ≤ N ≤ 1,000), 간선의 개수 M(1 ≤ M ≤ 10,000), 탐색을 시작할 정점의 번호 V가 주어진다. \n",
    "\n",
    "다음 M개의 줄에는 간선이 연결하는 두 정점의 번호가 주어진다. \n",
    "\n",
    "어떤 두 정점 사이에 여러 개의 간선이 있을 수 있다. 입력으로 주어지는 간선은 양방향이다.\n",
    "\n",
    "## 출력\n",
    "\n",
    "첫째 줄에 DFS를 수행한 결과를, \n",
    "\n",
    "그 다음 줄에는 BFS를 수행한 결과를 출력한다. \n",
    "\n",
    "V부터 방문된 점을 순서대로 출력하면 된다.\n",
    "\n",
    "\n",
    "```\n",
    "5 5 3\n",
    "5 4\n",
    "5 2\n",
    "1 2\n",
    "3 4\n",
    "3 1\n",
    "\n",
    "3 1 4 2 5\n",
    "\n",
    "```\n",
    "\n",
    "- 방문 표시리스트 를 함수안에서 생성할지 밖에서 생성할지 에 관하여, 정답 처리 와 코드 간결성 유지보수성을 생각하면, 함수내 지역변수로 처리하는게 좋지만, 코딩테스트 특성상 코드를 디버깅하면서 처리해야 하므로, 일단 전역변수로 처리\n",
    "\n"
   ]
  },
  {
   "cell_type": "markdown",
   "metadata": {},
   "source": [
    "---"
   ]
  },
  {
   "cell_type": "markdown",
   "metadata": {},
   "source": [
    "## MEMO\n",
    "\n",
    "1. 정점의 개수, 간선의 개수, 시작 정점를 입력\n",
    "\n",
    "2. 그래프를 2차원 인접 리스트로 생성\n",
    "\n",
    "3. 리스트 내 요소들 오름차순 정렬\n",
    "\n",
    "4. 방문 표시 리스트 v 생성 \n",
    "\n",
    "5. 방문 노드 리스트 생성 lst_bfs 생성\n",
    "\n",
    "6. bfs\n",
    "    - queue 생성, 방문 표시 리스트 생성\n",
    "    \n",
    "    - 큐(s) 삽입, 방문 표시 리스트 1, 방문 노드 리스트 삽입\n",
    "    \n",
    "    - queue에서 pop() 현재 노드 c\n",
    "    \n",
    "    - adj_lst[c] 에 인접한 노드 n 방문하지 않았으면 방문 처리 ( 삽입, 표시, 삽입 )\n",
    "    \n",
    "    - queue에 데이터가 모두 빌때까지 반복 다시 pop 하면서 인접 노드 queue에 삽입\n",
    "\n",
    "\n",
    "\n",
    "\n",
    "- adj 리스트 내 요소들 오름차순 정렬 (방문 할 수 있는 정점의 개수가 여러 개인 경우 정점 번호가 작은 것을 먼저 방문 조건)\n",
    "\n",
    "\n",
    "- 방문 표시 리스트 v, 함수 내부에서 생성하고, 이를 함수의 매개변수로 사용하는 방식은 코드의 가독성과 안정성을 높여줌\n"
   ]
  },
  {
   "cell_type": "markdown",
   "metadata": {},
   "source": [
    "---"
   ]
  },
  {
   "cell_type": "code",
   "execution_count": 1,
   "metadata": {},
   "outputs": [],
   "source": [
    "from collections import deque\n",
    "\n",
    "def bfs(s):\n",
    "    \n",
    "    # 큐, 방문 표시 리스트 생성\n",
    "    q = deque()\n",
    "    v = [0] * (N+1) \n",
    "    \n",
    "    # 시작 노드 방문 처리 및 큐 삽입\n",
    "    v[s] = 1\n",
    "    q.append(s)\n",
    "    \n",
    "    # 정답 처리\n",
    "    ans.append(s)\n",
    "    \n",
    "    # q가 빌때 까지 처리\n",
    "    \n",
    "    while q:\n",
    "        \n",
    "        c = q.popleft()\n",
    "        \n",
    "        # 인접 노드 모두 검사, 미방문 방문 처리\n",
    "        for n in adj[c]:\n",
    "            \n",
    "            if v[n] == 0 :\n",
    "                v[n] = 1\n",
    "                q.append(n) # 큐에 삽입하여, 이거랑 연결되어 있는 노드도 검색\n",
    "                \n",
    "                ans.append(n) # 정답 처리\n",
    "                \n",
    "                \n",
    "                \n",
    "            \n",
    "        \n",
    "    "
   ]
  },
  {
   "cell_type": "code",
   "execution_count": 2,
   "metadata": {},
   "outputs": [
    {
     "name": "stdout",
     "output_type": "stream",
     "text": [
      "5 5 3\n",
      "5 4\n",
      "5 2\n",
      "1 2\n",
      "3 4\n",
      "3 1\n"
     ]
    }
   ],
   "source": [
    "# 정점의 개수, 간선의 개수, 탐색 시장 정점\n",
    "\n",
    "N, M, S = map(int, input().split())\n",
    "\n",
    "adj = [ [] for _ in range(N+1) ]\n",
    "\n",
    "for _ in range(M):\n",
    "    s, e = map(int, input().split())\n",
    "    \n",
    "    adj[s].append(e)\n",
    "    adj[e].append(s)    \n",
    "\n",
    "    \n",
    "for lst in adj:\n",
    "    lst.sort()\n",
    "    \n",
    "ans = []  \n",
    "\n",
    "bfs(S)"
   ]
  },
  {
   "cell_type": "code",
   "execution_count": 3,
   "metadata": {},
   "outputs": [
    {
     "data": {
      "text/plain": [
       "[3, 1, 4, 2, 5]"
      ]
     },
     "execution_count": 3,
     "metadata": {},
     "output_type": "execute_result"
    }
   ],
   "source": [
    "ans"
   ]
  },
  {
   "cell_type": "markdown",
   "metadata": {},
   "source": [
    "---"
   ]
  }
 ],
 "metadata": {
  "hide_input": false,
  "kernelspec": {
   "display_name": "Python 3 (ipykernel)",
   "language": "python",
   "name": "python3"
  },
  "language_info": {
   "codemirror_mode": {
    "name": "ipython",
    "version": 3
   },
   "file_extension": ".py",
   "mimetype": "text/x-python",
   "name": "python",
   "nbconvert_exporter": "python",
   "pygments_lexer": "ipython3",
   "version": "3.8.16"
  },
  "toc": {
   "base_numbering": 1,
   "nav_menu": {},
   "number_sections": true,
   "sideBar": true,
   "skip_h1_title": false,
   "title_cell": "Table of Contents",
   "title_sidebar": "Contents",
   "toc_cell": false,
   "toc_position": {},
   "toc_section_display": true,
   "toc_window_display": false
  },
  "varInspector": {
   "cols": {
    "lenName": 16,
    "lenType": 16,
    "lenVar": 40
   },
   "kernels_config": {
    "python": {
     "delete_cmd_postfix": "",
     "delete_cmd_prefix": "del ",
     "library": "var_list.py",
     "varRefreshCmd": "print(var_dic_list())"
    },
    "r": {
     "delete_cmd_postfix": ") ",
     "delete_cmd_prefix": "rm(",
     "library": "var_list.r",
     "varRefreshCmd": "cat(var_dic_list()) "
    }
   },
   "types_to_exclude": [
    "module",
    "function",
    "builtin_function_or_method",
    "instance",
    "_Feature"
   ],
   "window_display": false
  }
 },
 "nbformat": 4,
 "nbformat_minor": 4
}
